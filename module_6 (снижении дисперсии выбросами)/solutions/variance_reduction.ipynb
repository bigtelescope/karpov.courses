{
 "cells": [
  {
   "cell_type": "code",
   "execution_count": 20,
   "id": "14c48c43",
   "metadata": {},
   "outputs": [],
   "source": [
    "import numpy as np\n",
    "import pandas as pd\n",
    "from scipy import stats\n",
    "import datetime \n",
    "import random\n",
    "import tqdm"
   ]
  },
  {
   "cell_type": "markdown",
   "id": "92749682",
   "metadata": {},
   "source": [
    "## задача про зависимость между долей удаляемых выбросов и мощностью"
   ]
  },
  {
   "cell_type": "code",
   "execution_count": 26,
   "id": "6750a856",
   "metadata": {},
   "outputs": [],
   "source": [
    "logs = pd.read_csv('2022-04-01T12_df_web_logs.csv')"
   ]
  },
  {
   "cell_type": "code",
   "execution_count": 27,
   "id": "8f7f4193",
   "metadata": {},
   "outputs": [],
   "source": [
    "logs['date'] = logs.apply(lambda x: pd.to_datetime(x['date']), axis=1)"
   ]
  },
  {
   "cell_type": "code",
   "execution_count": 28,
   "id": "7a3d5997",
   "metadata": {},
   "outputs": [],
   "source": [
    "logs = logs[\n",
    "    (logs['date'] >= datetime.datetime(2022, 3, 1))\n",
    "    &\n",
    "    (logs['date'] < datetime.datetime(2022, 3, 8))\n",
    "]\n"
   ]
  },
  {
   "cell_type": "code",
   "execution_count": 29,
   "id": "9b212178",
   "metadata": {},
   "outputs": [],
   "source": [
    "users = logs.user_id.unique()"
   ]
  },
  {
   "cell_type": "code",
   "execution_count": 30,
   "id": "ed1fa9fa",
   "metadata": {},
   "outputs": [],
   "source": [
    "# test_data.load_time.mean() / ctrl_data.load_time.mean()"
   ]
  },
  {
   "cell_type": "code",
   "execution_count": 31,
   "id": "3a2f5ef8",
   "metadata": {},
   "outputs": [],
   "source": [
    "outliers = [0.0002, 0.002, 0.02, 0.10, 0.20]\n",
    "alpha = 0.05"
   ]
  },
  {
   "cell_type": "code",
   "execution_count": 32,
   "id": "14d4c29f",
   "metadata": {},
   "outputs": [],
   "source": [
    "# 1. ошибка 2 рода = вероятность не увидеть эффект, когда он есть\n",
    "# 2. мощность = 1 - вероятность ошибки второго рода\n",
    "# 3. вероятность ошибки 2 рода = (кол-во ошибок второго рода) / (кол-во наблюдений)"
   ]
  },
  {
   "cell_type": "code",
   "execution_count": 33,
   "id": "5194bcfa",
   "metadata": {},
   "outputs": [
    {
     "name": "stderr",
     "output_type": "stream",
     "text": [
      "100%|██████████| 1000/1000 [18:12<00:00,  1.09s/it]\n"
     ]
    }
   ],
   "source": [
    "results_dict = {}\n",
    "for item in outliers:\n",
    "    results_dict[item] = []\n",
    "\n",
    "for i in tqdm.tqdm(range(1000)):\n",
    "    for outlier in outliers:\n",
    "        \n",
    "        random.shuffle(users)\n",
    "\n",
    "        test_users = list(users[:1000])\n",
    "        ctrl_users = list(users[1000:2000])\n",
    "        \n",
    "        test_users = pd.DataFrame(test_users, columns=['user_id'])\n",
    "        ctrl_users = pd.DataFrame(ctrl_users, columns=['user_id'])\n",
    "        \n",
    "        test_data = logs.merge(test_users, how='inner', on='user_id')\n",
    "        ctrl_data = logs.merge(ctrl_users, how='inner', on='user_id')\n",
    "    \n",
    "        test_data['load_time'] = test_data.apply(lambda x: float(x['load_time']), axis=1)\n",
    "        ctrl_data['load_time'] = ctrl_data.apply(lambda x: float(x['load_time']), axis=1)\n",
    "        \n",
    "        test_data['load_time'] = test_data.apply(lambda x: x['load_time'] * 1.01, axis=1)\n",
    "        \n",
    "        left_q = outlier / 2\n",
    "        right_q = 1 - outlier / 2\n",
    "\n",
    "        test_data_left_boarder = np.quantile(test_data['load_time'], left_q)\n",
    "        test_data_rght_boarder = np.quantile(test_data['load_time'], right_q)\n",
    "        \n",
    "        # вырезка персентиля в тесте\n",
    "        test_data_tmp = test_data[\n",
    "            (test_data['load_time'] >= test_data_left_boarder)\n",
    "            & \n",
    "            (test_data['load_time'] <= test_data_rght_boarder)\n",
    "        ].copy()['load_time']\n",
    "\n",
    "        ctrl_data_left_boarder = np.quantile(ctrl_data['load_time'], left_q)\n",
    "        ctrl_data_rght_boarder = np.quantile(ctrl_data['load_time'], right_q)\n",
    "        \n",
    "        # вырезка персентиля в контроле \n",
    "        ctrl_data_tmp = ctrl_data[\n",
    "            (ctrl_data['load_time'] >= ctrl_data_left_boarder)\n",
    "            & \n",
    "            (ctrl_data['load_time'] <= ctrl_data_rght_boarder)\n",
    "        ].copy()['load_time']\n",
    "\n",
    "        _, pvalue = stats.ttest_ind(ctrl_data_tmp, test_data_tmp)\n",
    "        results_dict[outlier].append(1 if pvalue > alpha else 0)\n",
    "    "
   ]
  },
  {
   "cell_type": "code",
   "execution_count": 34,
   "id": "ddaa7fa0",
   "metadata": {},
   "outputs": [
    {
     "name": "stdout",
     "output_type": "stream",
     "text": [
      "{0.0002: 0.905, 0.002: 0.633, 0.02: 0.073, 0.1: 0.04, 0.2: 0.034}\n"
     ]
    }
   ],
   "source": [
    "for boarder in results_dict:\n",
    "    results_dict[boarder] = sum(results_dict[boarder]) / len(results_dict[boarder])\n",
    "    \n",
    "print(results_dict)"
   ]
  },
  {
   "cell_type": "markdown",
   "id": "6cc5cad6",
   "metadata": {},
   "source": [
    "## меняю способ добавления эффекта"
   ]
  },
  {
   "cell_type": "code",
   "execution_count": 35,
   "id": "594cc38c",
   "metadata": {},
   "outputs": [],
   "source": [
    "logs = pd.read_csv('2022-04-01T12_df_web_logs.csv')\n",
    "logs['date'] = logs.apply(lambda x: pd.to_datetime(x['date']), axis=1)\n",
    "logs = logs[\n",
    "    (logs['date'] >= datetime.datetime(2022, 3, 1))\n",
    "    &\n",
    "    (logs['date'] < datetime.datetime(2022, 3, 8))\n",
    "]\n"
   ]
  },
  {
   "cell_type": "code",
   "execution_count": 36,
   "id": "aa59d320",
   "metadata": {},
   "outputs": [],
   "source": [
    "users = logs.user_id.unique()"
   ]
  },
  {
   "cell_type": "code",
   "execution_count": 37,
   "id": "855892fd",
   "metadata": {},
   "outputs": [],
   "source": [
    "outliers = [0.0002, 0.002, 0.02, 0.10, 0.20]\n",
    "alpha = 0.05"
   ]
  },
  {
   "cell_type": "code",
   "execution_count": 41,
   "id": "6b121884",
   "metadata": {},
   "outputs": [
    {
     "name": "stderr",
     "output_type": "stream",
     "text": [
      "100%|██████████| 1000/1000 [15:20<00:00,  1.09it/s]\n"
     ]
    }
   ],
   "source": [
    "results_dict = {}\n",
    "for item in outliers:\n",
    "    results_dict[item] = []\n",
    "\n",
    "for i in tqdm.tqdm(range(1000)):\n",
    "    for outlier in outliers:\n",
    "        \n",
    "        random.shuffle(users)\n",
    "\n",
    "        test_users = list(users[:1000])\n",
    "        ctrl_users = list(users[1000:2000])\n",
    "        \n",
    "        test_users = pd.DataFrame(test_users, columns=['user_id'])\n",
    "        ctrl_users = pd.DataFrame(ctrl_users, columns=['user_id'])\n",
    "        \n",
    "        test_data = logs.merge(test_users, how='inner', on='user_id')\n",
    "        ctrl_data = logs.merge(ctrl_users, how='inner', on='user_id')\n",
    "    \n",
    "        test_data['load_time'] = test_data.apply(lambda x: float(x['load_time']), axis=1)\n",
    "        ctrl_data['load_time'] = ctrl_data.apply(lambda x: float(x['load_time']), axis=1)\n",
    "        \n",
    "#         base_res = round(test_data['load_time'].mean() / ctrl_data['load_time'].mean(), 4)\n",
    "        \n",
    "        uplifted_indices = list(test_data.index)\n",
    "        random.shuffle(uplifted_indices)\n",
    "        uplift_indices_size = int(len(test_data.index)*0.01)\n",
    "        uplifted_indices = list(uplifted_indices[:uplift_indices_size])\n",
    "        \n",
    "        # добавляю константу 1% данных\n",
    "        const_value = test_data['load_time'].sum() * 0.01 / len(uplifted_indices)\n",
    "        # const_value = test_data['load_time'].mean()\n",
    "\n",
    "        for i in uplifted_indices:\n",
    "            test_data.loc[i,'load_time'] += const_value\n",
    "            \n",
    "#         new_res = round(test_data['load_time'].mean() / ctrl_data['load_time'].mean(), 4)\n",
    "        \n",
    "#         print('Was ->', base_res, ', become ->', new_res, ', diff ->', round(new_res / base_res, 4))\n",
    "        \n",
    "        left_q = outlier / 2\n",
    "        right_q = 1 - outlier / 2\n",
    "\n",
    "        test_data_left_boarder = np.quantile(test_data['load_time'], left_q)\n",
    "        test_data_rght_boarder = np.quantile(test_data['load_time'], right_q)\n",
    "        \n",
    "        # вырезка персентиля в тесте\n",
    "        test_data_tmp = test_data[\n",
    "            (test_data['load_time'] >= test_data_left_boarder)\n",
    "            & \n",
    "            (test_data['load_time'] <= test_data_rght_boarder)\n",
    "        ].copy()['load_time']\n",
    "\n",
    "        ctrl_data_left_boarder = np.quantile(ctrl_data['load_time'], left_q)\n",
    "        ctrl_data_rght_boarder = np.quantile(ctrl_data['load_time'], right_q)\n",
    "        \n",
    "        # вырезка персентиля в контроле \n",
    "        ctrl_data_tmp = ctrl_data[\n",
    "            (ctrl_data['load_time'] >= ctrl_data_left_boarder)\n",
    "            & \n",
    "            (ctrl_data['load_time'] <= ctrl_data_rght_boarder)\n",
    "        ].copy()['load_time']\n",
    "\n",
    "        _, pvalue = stats.ttest_ind(ctrl_data_tmp, test_data_tmp)\n",
    "        results_dict[outlier].append(1 if pvalue > alpha else 0)\n",
    "    "
   ]
  },
  {
   "cell_type": "code",
   "execution_count": 47,
   "id": "01b09749",
   "metadata": {},
   "outputs": [
    {
     "name": "stdout",
     "output_type": "stream",
     "text": [
      "{0.0002: 0.906, 0.002: 0.663, 0.02: 0.559, 0.1: 0.709, 0.2: 0.687}\n"
     ]
    }
   ],
   "source": [
    "for boarder in results_dict:\n",
    "    results_dict[boarder] = sum(results_dict[boarder]) / len(results_dict[boarder])\n",
    "    \n",
    "print(results_dict)"
   ]
  },
  {
   "cell_type": "markdown",
   "id": "27248c1d",
   "metadata": {},
   "source": [
    "## Удаление выбросов"
   ]
  },
  {
   "cell_type": "code",
   "execution_count": 70,
   "id": "57feef43",
   "metadata": {},
   "outputs": [],
   "source": [
    "import pandas as pd\n",
    "\n",
    "\n",
    "def process_outliers(metrics, bounds, outlier_process_type):\n",
    "    \"\"\"Возвращает новый датафрейм с обработанными выбросами в измерениях метрики.\n",
    "\n",
    "    :metrics -> ['user_id', 'metric'].\n",
    "    :bounds (tuple[float, float]): нижняя и верхняя границы метрики\n",
    "    :outlier_process_type = способ обработки выбросов:\n",
    "        'drop' - удаляем измерение,\n",
    "        'clip' - заменяем выброс на значение ближайшей границы (lower_bound, upper_bound).\n",
    "        \n",
    "    :return df: таблица со столбцами ['user_id', 'metric']\n",
    "    \"\"\"\n",
    "    metrics['metric'] = metrics.apply(lambda x: float(x['metric']), axis=1)\n",
    "    \n",
    "    if outlier_process_type == 'drop':\n",
    "        indexes_1 = list(metrics[metrics['metric'] < bounds[0]].index)\n",
    "        indexes_2 = list(metrics[metrics['metric'] > bounds[1]].index)\n",
    "        metrics = metrics.drop(indexes_1).drop(indexes_2)\n",
    "        \n",
    "    elif outlier_process_type == 'clip':\n",
    "        indexes_1 = list(metrics[metrics['metric'] < bounds[0]].index)\n",
    "        indexes_2 = list(metrics[metrics['metric'] > bounds[1]].index)\n",
    "        \n",
    "        for index_1 in indexes_1:\n",
    "            metrics.loc[index_1,'metric'] = bounds[0]\n",
    "            \n",
    "        for index_2 in indexes_2:\n",
    "            metrics.loc[index_2,'metric'] = bounds[1]\n",
    "    \n",
    "    return metrics\n",
    "        "
   ]
  },
  {
   "cell_type": "code",
   "execution_count": 71,
   "id": "947f1439",
   "metadata": {},
   "outputs": [
    {
     "name": "stdout",
     "output_type": "stream",
     "text": [
      "   user_id  metric\n",
      "0        1     1.0\n",
      "1        2     2.0\n",
      "   user_id  metric\n",
      "0        1     1.0\n",
      "1        2     2.0\n",
      "2        3     2.2\n"
     ]
    }
   ],
   "source": [
    "metrics = pd.DataFrame({'user_id': [1, 2, 3], 'metric': [1., 2, 3]})\n",
    "bounds = (0.1, 2.2,)\n",
    "outlier_process_type = 'drop'\n",
    "result = process_outliers(metrics, bounds, outlier_process_type)\n",
    "print(result)\n",
    "# result = pd.DataFrame({'user_id': [1, 2], 'metric': [1.0, 2.0]})\n",
    "\n",
    "outlier_process_type = 'clip'\n",
    "result = process_outliers(metrics, bounds, outlier_process_type)\n",
    "print(result)\n",
    "# result = pd.DataFrame({'user_id': [1, 2, 3], 'metric': [1.0, 2.0, 2.2]})"
   ]
  },
  {
   "cell_type": "code",
   "execution_count": null,
   "id": "1ccabc3a",
   "metadata": {},
   "outputs": [],
   "source": []
  },
  {
   "cell_type": "code",
   "execution_count": null,
   "id": "c68f2341",
   "metadata": {},
   "outputs": [],
   "source": []
  },
  {
   "cell_type": "code",
   "execution_count": 42,
   "id": "9384c4f1",
   "metadata": {},
   "outputs": [
    {
     "name": "stdout",
     "output_type": "stream",
     "text": [
      "   column_name\n",
      "0            1\n",
      "1            5\n",
      "3            6\n",
      "5            3\n",
      "6            9\n",
      "8            2\n",
      "9            7\n"
     ]
    }
   ],
   "source": [
    "import pandas as pd\n",
    "\n",
    "# создаем DataFrame\n",
    "df = pd.DataFrame({'column_name': [1, 5, 12, 6, 18, 3, 9, 15, 2, 7]})\n",
    "\n",
    "# удаляем строки, где значение в колонке \"column_name\" больше 10\n",
    "df = df.query('column_name <= 10')\n",
    "\n",
    "# или альтернативный вариант с использованием булевых индексов\n",
    "# df = df[df['column_name'] <= 10]\n",
    "\n",
    "print(df)"
   ]
  },
  {
   "cell_type": "code",
   "execution_count": null,
   "id": "9f6b9d96",
   "metadata": {},
   "outputs": [],
   "source": []
  }
 ],
 "metadata": {
  "kernelspec": {
   "display_name": "Python 3 (ipykernel)",
   "language": "python",
   "name": "python3"
  },
  "language_info": {
   "codemirror_mode": {
    "name": "ipython",
    "version": 3
   },
   "file_extension": ".py",
   "mimetype": "text/x-python",
   "name": "python",
   "nbconvert_exporter": "python",
   "pygments_lexer": "ipython3",
   "version": "3.9.6"
  }
 },
 "nbformat": 4,
 "nbformat_minor": 5
}
