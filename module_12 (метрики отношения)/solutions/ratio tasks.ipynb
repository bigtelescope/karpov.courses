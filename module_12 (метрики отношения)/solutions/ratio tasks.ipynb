{
 "cells": [
  {
   "cell_type": "markdown",
   "id": "da72afde",
   "metadata": {},
   "source": [
    "## Задача 1. Оценка эксперимента с линеаризацией"
   ]
  },
  {
   "cell_type": "markdown",
   "id": "094d4575",
   "metadata": {},
   "source": [
    "Раньше мы оценивали эксперимент \"Refactoring backend\", предполагая, что данные времени работы бэкенда независимые. Теперь мы можем корректно оценить этот эксперимент, даже если данные зависели бы от пользователей.\n",
    "\n",
    "Оцените эксперимент \"Refactoring backend\" с использованием линеаризации в предположении, что данные пользователей зависимы.\n",
    "\n",
    "Данные эксперимента \"Refactoring backend\": 2022-04-13/2022-04-13T12_df_web_logs.csv и 2022-04-13/experiment_users.csv. Эксперимент проводился с 2022-04-05 по 2022-04-12. Метрика — среднее время обработки запроса.\n",
    "\n",
    "В качестве ответа введите p-value с точность до 4-го знака после точки."
   ]
  },
  {
   "cell_type": "code",
   "execution_count": 18,
   "id": "9474a317",
   "metadata": {},
   "outputs": [],
   "source": [
    "import pandas as pd\n",
    "import numpy as np\n",
    "\n",
    "from scipy import stats\n",
    "from datetime import datetime"
   ]
  },
  {
   "cell_type": "code",
   "execution_count": 19,
   "id": "168e6f1f",
   "metadata": {},
   "outputs": [],
   "source": [
    "data = pd.read_csv('2022-04-13T12_df_web_logs.csv')\n",
    "split = pd.read_csv('experiment_users.csv')\n"
   ]
  },
  {
   "cell_type": "code",
   "execution_count": 20,
   "id": "c1de8d39",
   "metadata": {},
   "outputs": [],
   "source": [
    "split_x_data = data.merge(split, how='inner', on='user_id')\n",
    "\n",
    "start_dt = datetime(2022, 4, 5)\n",
    "end_dt = datetime(2022, 4, 12)\n",
    "\n",
    "split_x_data['date'] = split_x_data.apply(lambda x: pd.to_datetime(x['date']), axis=1)\n",
    "split_x_data = split_x_data[\n",
    "    (split_x_data['date'] >= start_dt)\n",
    "    &\n",
    "    (split_x_data['date'] < end_dt)\n",
    "]"
   ]
  },
  {
   "cell_type": "code",
   "execution_count": 21,
   "id": "2783597d",
   "metadata": {},
   "outputs": [
    {
     "data": {
      "text/plain": [
       "pilot\n",
       "0    19270\n",
       "1    19666\n",
       "Name: user_id, dtype: int64"
      ]
     },
     "execution_count": 21,
     "metadata": {},
     "output_type": "execute_result"
    }
   ],
   "source": [
    "split_x_data.groupby('pilot').user_id.count()"
   ]
  },
  {
   "cell_type": "code",
   "execution_count": 22,
   "id": "28615c90",
   "metadata": {},
   "outputs": [
    {
     "data": {
      "text/html": [
       "<div>\n",
       "<style scoped>\n",
       "    .dataframe tbody tr th:only-of-type {\n",
       "        vertical-align: middle;\n",
       "    }\n",
       "\n",
       "    .dataframe tbody tr th {\n",
       "        vertical-align: top;\n",
       "    }\n",
       "\n",
       "    .dataframe thead th {\n",
       "        text-align: right;\n",
       "    }\n",
       "</style>\n",
       "<table border=\"1\" class=\"dataframe\">\n",
       "  <thead>\n",
       "    <tr style=\"text-align: right;\">\n",
       "      <th></th>\n",
       "      <th>user_id</th>\n",
       "      <th>page</th>\n",
       "      <th>date</th>\n",
       "      <th>load_time</th>\n",
       "      <th>pilot</th>\n",
       "    </tr>\n",
       "  </thead>\n",
       "  <tbody>\n",
       "    <tr>\n",
       "      <th>22</th>\n",
       "      <td>c8ec4a</td>\n",
       "      <td>m</td>\n",
       "      <td>2022-04-11 16:11:51</td>\n",
       "      <td>71.3</td>\n",
       "      <td>1</td>\n",
       "    </tr>\n",
       "    <tr>\n",
       "      <th>23</th>\n",
       "      <td>c8ec4a</td>\n",
       "      <td>m</td>\n",
       "      <td>2022-04-11 16:16:51</td>\n",
       "      <td>88.2</td>\n",
       "      <td>1</td>\n",
       "    </tr>\n",
       "    <tr>\n",
       "      <th>24</th>\n",
       "      <td>c8ec4a</td>\n",
       "      <td>m</td>\n",
       "      <td>2022-04-11 16:18:32</td>\n",
       "      <td>72.4</td>\n",
       "      <td>1</td>\n",
       "    </tr>\n",
       "    <tr>\n",
       "      <th>25</th>\n",
       "      <td>c8ec4a</td>\n",
       "      <td>b</td>\n",
       "      <td>2022-04-11 16:24:25</td>\n",
       "      <td>86.1</td>\n",
       "      <td>1</td>\n",
       "    </tr>\n",
       "    <tr>\n",
       "      <th>32</th>\n",
       "      <td>c00ee7</td>\n",
       "      <td>m</td>\n",
       "      <td>2022-04-06 10:30:18</td>\n",
       "      <td>59.5</td>\n",
       "      <td>1</td>\n",
       "    </tr>\n",
       "  </tbody>\n",
       "</table>\n",
       "</div>"
      ],
      "text/plain": [
       "   user_id page                date  load_time  pilot\n",
       "22  c8ec4a    m 2022-04-11 16:11:51       71.3      1\n",
       "23  c8ec4a    m 2022-04-11 16:16:51       88.2      1\n",
       "24  c8ec4a    m 2022-04-11 16:18:32       72.4      1\n",
       "25  c8ec4a    b 2022-04-11 16:24:25       86.1      1\n",
       "32  c00ee7    m 2022-04-06 10:30:18       59.5      1"
      ]
     },
     "execution_count": 22,
     "metadata": {},
     "output_type": "execute_result"
    }
   ],
   "source": [
    "split_x_data.head()"
   ]
  },
  {
   "cell_type": "code",
   "execution_count": 23,
   "id": "8bcf8833",
   "metadata": {},
   "outputs": [],
   "source": [
    "user_x_order = split_x_data.groupby('user_id').load_time.sum().reset_index()\n",
    "user_x_visit = split_x_data.groupby('user_id').load_time.count().reset_index()\n"
   ]
  },
  {
   "cell_type": "code",
   "execution_count": 30,
   "id": "501e6fa0",
   "metadata": {},
   "outputs": [],
   "source": [
    "user_x_alt = pd.merge(user_x_visit, user_x_order, how='inner', on='user_id')\n",
    "user_x_alt = user_x_alt.merge(split, how='inner', on='user_id')\n",
    "user_x_alt = user_x_alt.rename({\n",
    "    'load_time_x': 'loads_cnt',\n",
    "    'load_time_y': 'sum_load_time'\n",
    "}, axis=1)\n"
   ]
  },
  {
   "cell_type": "code",
   "execution_count": 32,
   "id": "b7d174ee",
   "metadata": {},
   "outputs": [
    {
     "data": {
      "text/html": [
       "<div>\n",
       "<style scoped>\n",
       "    .dataframe tbody tr th:only-of-type {\n",
       "        vertical-align: middle;\n",
       "    }\n",
       "\n",
       "    .dataframe tbody tr th {\n",
       "        vertical-align: top;\n",
       "    }\n",
       "\n",
       "    .dataframe thead th {\n",
       "        text-align: right;\n",
       "    }\n",
       "</style>\n",
       "<table border=\"1\" class=\"dataframe\">\n",
       "  <thead>\n",
       "    <tr style=\"text-align: right;\">\n",
       "      <th></th>\n",
       "      <th>user_id</th>\n",
       "      <th>loads_cnt</th>\n",
       "      <th>sum_load_time</th>\n",
       "      <th>pilot</th>\n",
       "    </tr>\n",
       "  </thead>\n",
       "  <tbody>\n",
       "    <tr>\n",
       "      <th>0</th>\n",
       "      <td>0001ff</td>\n",
       "      <td>6</td>\n",
       "      <td>432.6</td>\n",
       "      <td>1</td>\n",
       "    </tr>\n",
       "    <tr>\n",
       "      <th>1</th>\n",
       "      <td>002a5a</td>\n",
       "      <td>6</td>\n",
       "      <td>424.9</td>\n",
       "      <td>0</td>\n",
       "    </tr>\n",
       "    <tr>\n",
       "      <th>2</th>\n",
       "      <td>0033c5</td>\n",
       "      <td>10</td>\n",
       "      <td>702.9</td>\n",
       "      <td>0</td>\n",
       "    </tr>\n",
       "  </tbody>\n",
       "</table>\n",
       "</div>"
      ],
      "text/plain": [
       "  user_id  loads_cnt  sum_load_time  pilot\n",
       "0  0001ff          6          432.6      1\n",
       "1  002a5a          6          424.9      0\n",
       "2  0033c5         10          702.9      0"
      ]
     },
     "execution_count": 32,
     "metadata": {},
     "output_type": "execute_result"
    }
   ],
   "source": [
    "user_x_alt.head(3)"
   ]
  },
  {
   "cell_type": "code",
   "execution_count": 36,
   "id": "9e8b68dd",
   "metadata": {},
   "outputs": [],
   "source": [
    "def linearize_samples(control_sample, test_sample):\n",
    "    k = control_sample.sum_load_time.sum() / control_sample.loads_cnt.sum()\n",
    "    \n",
    "    control_sample['lin_metric'] = control_sample.apply(lambda x: x['sum_load_time'] - k * x['loads_cnt'], axis=1)\n",
    "    test_sample['lin_metric'] = test_sample.apply(lambda x: x['sum_load_time'] - k * x['loads_cnt'], axis=1)\n",
    "    \n",
    "    return control_sample['lin_metric'], test_sample['lin_metric']\n",
    "    "
   ]
  },
  {
   "cell_type": "code",
   "execution_count": 38,
   "id": "586c644d",
   "metadata": {},
   "outputs": [
    {
     "name": "stdout",
     "output_type": "stream",
     "text": [
      "0.04416800272407429\n"
     ]
    }
   ],
   "source": [
    "control_sample = user_x_alt[user_x_alt['pilot'] == 0].copy()\n",
    "test_sample = user_x_alt[user_x_alt['pilot'] == 1].copy()\n",
    "\n",
    "control_sample, test_sample = linearize_samples(control_sample, test_sample)\n",
    "\n",
    "_, pvalue = stats.ttest_ind(control_sample, test_sample)\n",
    "print(pvalue)"
   ]
  },
  {
   "cell_type": "markdown",
   "id": "b7f7de81",
   "metadata": {},
   "source": [
    "## Задача 2. Функция вычисления линеаризованной метрики"
   ]
  },
  {
   "cell_type": "markdown",
   "id": "20d5fb60",
   "metadata": {},
   "source": [
    "Реализуйте функцию calculate_linearized_metrics"
   ]
  },
  {
   "cell_type": "code",
   "execution_count": 41,
   "id": "7cccf1af",
   "metadata": {},
   "outputs": [],
   "source": [
    "import pandas as pd\n",
    "import numpy as np\n",
    "\n",
    "from scipy import stats\n",
    "from datetime import datetime\n",
    "\n",
    "\n",
    "def calculate_linearized_metrics(control_metrics, pilot_metrics):\n",
    "    \"\"\"\n",
    "    Считает значения линеаризованной метрики.\n",
    "\n",
    "    Нужно вычислить параметр kappa (коэффициент в функции линеаризации) по данным из\n",
    "    control_metrics и использовать его для вычисления линеаризованной метрики.\n",
    "\n",
    "    :param control_metrics (pd.DataFrame): датафрейм со значениями метрики контрольной группы.\n",
    "        Значения в столбце 'user_id' не уникальны.\n",
    "        Измерения для одного user_id считаем зависимыми, а разных user_id - независимыми.\n",
    "        columns=['user_id', 'metric']\n",
    "        \n",
    "    :param pilot_metrics (pd.DataFrame): датафрейм со значениями метрики экспериментальной группы.\n",
    "        Значения в столбце 'user_id' не уникальны.\n",
    "        Измерения для одного user_id считаем зависимыми, а разных user_id - независимыми.\n",
    "        columns=['user_id', 'metric']\n",
    "        \n",
    "    :return lin_control_metrics, lin_pilot_metrics: датафреймы контрольной и экспериментальной\n",
    "        групп со значениями линеаризованной метрики.\n",
    "        columns=['user_id', 'metric']\n",
    "    \"\"\"\n",
    "    \n",
    "    control_x_sum = control_metrics.groupby('user_id').metric.sum().reset_index()\n",
    "    control_x_cnt = control_metrics.groupby('user_id').metric.count().reset_index()\n",
    "    control_group = pd.merge(control_x_sum, control_x_cnt, how='inner', on='user_id')\n",
    "    control_group = control_group.rename({\n",
    "        'metric_x': 'metric_sum',\n",
    "        'metric_y': 'metric_cnt'\n",
    "    }, axis=1)\n",
    "\n",
    "    test_x_sum = pilot_metrics.groupby('user_id').metric.sum().reset_index()\n",
    "    test_x_cnt = pilot_metrics.groupby('user_id').metric.count().reset_index()\n",
    "    test_group = pd.merge(test_x_sum, test_x_cnt, how='inner', on='user_id')\n",
    "    test_group = test_group.rename({\n",
    "        'metric_x': 'metric_sum',\n",
    "        'metric_y': 'metric_cnt'\n",
    "    }, axis=1)\n",
    "    \n",
    "    k = control_group.metric_sum.sum() / control_group.metric_cnt.sum()\n",
    "    \n",
    "    control_group['metric'] = control_group.apply(lambda x: x['metric_sum'] - k * x['metric_cnt'], axis=1)\n",
    "    test_group['metric'] = test_group.apply(lambda x: x['metric_sum'] - k * x['metric_cnt'], axis=1)\n",
    "    \n",
    "    control_group = control_group[['user_id', 'metric']]\n",
    "    test_group = test_group[['user_id', 'metric']]\n",
    "    \n",
    "    return control_group, test_group\n",
    "    \n",
    "    "
   ]
  },
  {
   "cell_type": "code",
   "execution_count": 42,
   "id": "cca6a0fa",
   "metadata": {},
   "outputs": [
    {
     "name": "stdout",
     "output_type": "stream",
     "text": [
      "   user_id  metric\n",
      "0        1    -2.0\n",
      "1        2     2.0\n",
      "   user_id  metric\n",
      "0        3    -1.0\n"
     ]
    }
   ],
   "source": [
    "control_metrics = pd.DataFrame({'user_id': [1, 1, 2], 'metric': [3, 5, 7],})\n",
    "pilot_metrics = pd.DataFrame({'user_id': [3, 3], 'metric': [3, 6], })\n",
    "\n",
    "lin_control_metrics, lin_pilot_metrics = calculate_linearized_metrics(\n",
    "    control_metrics, pilot_metrics\n",
    ")\n",
    "\n",
    "print(lin_control_metrics)\n",
    "print(lin_pilot_metrics)\n",
    "\n",
    "# lin_control_metrics = pd.DataFrame({'user_id': [1, 2], 'metric': [-2, 2]})\n",
    "# lin_pilot_metrics = pd.DataFrame({'user_id': [3,], 'metric': [-1,]})"
   ]
  },
  {
   "cell_type": "code",
   "execution_count": null,
   "id": "d5d9e21f",
   "metadata": {},
   "outputs": [],
   "source": []
  },
  {
   "cell_type": "code",
   "execution_count": null,
   "id": "9e83370f",
   "metadata": {},
   "outputs": [],
   "source": []
  },
  {
   "cell_type": "code",
   "execution_count": null,
   "id": "61041fc0",
   "metadata": {},
   "outputs": [],
   "source": []
  },
  {
   "cell_type": "code",
   "execution_count": null,
   "id": "9249dfda",
   "metadata": {},
   "outputs": [],
   "source": []
  }
 ],
 "metadata": {
  "kernelspec": {
   "display_name": "Python 3 (ipykernel)",
   "language": "python",
   "name": "python3"
  },
  "language_info": {
   "codemirror_mode": {
    "name": "ipython",
    "version": 3
   },
   "file_extension": ".py",
   "mimetype": "text/x-python",
   "name": "python",
   "nbconvert_exporter": "python",
   "pygments_lexer": "ipython3",
   "version": "3.9.6"
  }
 },
 "nbformat": 4,
 "nbformat_minor": 5
}
