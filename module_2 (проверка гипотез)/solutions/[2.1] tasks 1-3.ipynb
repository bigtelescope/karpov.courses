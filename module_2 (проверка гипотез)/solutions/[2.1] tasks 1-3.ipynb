{
  "metadata": {
    "kernelspec": {
      "name": "python",
      "display_name": "Python (Pyodide)",
      "language": "python"
    },
    "language_info": {
      "codemirror_mode": {
        "name": "python",
        "version": 3
      },
      "file_extension": ".py",
      "mimetype": "text/x-python",
      "name": "python",
      "nbconvert_exporter": "python",
      "pygments_lexer": "ipython3",
      "version": "3.8"
    }
  },
  "nbformat_minor": 4,
  "nbformat": 4,
  "cells": [
    {
      "cell_type": "code",
      "source": "import numpy as np\nimport pandas as pd\nfrom datetime import datetime\nfrom scipy.stats import ttest_ind",
      "metadata": {
        "trusted": true
      },
      "outputs": [],
      "execution_count": 68
    },
    {
      "cell_type": "markdown",
      "source": "## task 2",
      "metadata": {}
    },
    {
      "cell_type": "code",
      "source": "sales_df = pd.read_csv('2022-04-01T12_df_sales.csv')\n# sales_df['date'] = sales_df['date'].apply(lambda x: datetime.datetime.strptime(x, '%Y-%m-%d %H:%M:%S'))",
      "metadata": {
        "trusted": true
      },
      "outputs": [],
      "execution_count": 104
    },
    {
      "cell_type": "code",
      "source": "start_dt = datetime(2022, 3, 16)\nend_dt = datetime(2022, 3, 23)",
      "metadata": {
        "trusted": true
      },
      "outputs": [],
      "execution_count": 105
    },
    {
      "cell_type": "code",
      "source": "sales_df['date'] = pd.to_datetime(sales_df['date'])",
      "metadata": {
        "trusted": true
      },
      "outputs": [],
      "execution_count": 106
    },
    {
      "cell_type": "code",
      "source": "sales_df = sales_df[(sales_df['date'] < end_dt) & (sales_df['date'] >= start_dt)]\n",
      "metadata": {
        "trusted": true
      },
      "outputs": [],
      "execution_count": 107
    },
    {
      "cell_type": "code",
      "source": "sales_df_agg = sales_df[['user_id', 'price']].groupby('user_id')['price'].sum().reset_index()",
      "metadata": {
        "trusted": true
      },
      "outputs": [],
      "execution_count": 108
    },
    {
      "cell_type": "code",
      "source": "sales_df_agg['user_id'].nunique()",
      "metadata": {
        "trusted": true
      },
      "outputs": [
        {
          "execution_count": 109,
          "output_type": "execute_result",
          "data": {
            "text/plain": "24600"
          },
          "metadata": {}
        }
      ],
      "execution_count": 109
    },
    {
      "cell_type": "code",
      "source": "split_df = pd.read_csv('experiment_users.csv')",
      "metadata": {
        "trusted": true
      },
      "outputs": [],
      "execution_count": 110
    },
    {
      "cell_type": "code",
      "source": "split_df.groupby('pilot')['user_id'].nunique()",
      "metadata": {
        "trusted": true
      },
      "outputs": [
        {
          "execution_count": 111,
          "output_type": "execute_result",
          "data": {
            "text/plain": "pilot\n0    11769\n1    11564\nName: user_id, dtype: int64"
          },
          "metadata": {}
        }
      ],
      "execution_count": 111
    },
    {
      "cell_type": "code",
      "source": "df = pd.merge(split_df, sales_df_agg, how='left', on='user_id').fillna(0)",
      "metadata": {
        "trusted": true
      },
      "outputs": [],
      "execution_count": 115
    },
    {
      "cell_type": "code",
      "source": "df = df.rename({'price': 'revenue'}, axis=1)",
      "metadata": {
        "trusted": true
      },
      "outputs": [],
      "execution_count": 116
    },
    {
      "cell_type": "code",
      "source": "df.groupby('pilot').user_id.nunique()",
      "metadata": {
        "trusted": true
      },
      "outputs": [
        {
          "execution_count": 117,
          "output_type": "execute_result",
          "data": {
            "text/plain": "pilot\n0    11769\n1    11564\nName: user_id, dtype: int64"
          },
          "metadata": {}
        }
      ],
      "execution_count": 117
    },
    {
      "cell_type": "code",
      "source": "ttest_ind(df[df['pilot'] == 1]['revenue'], df[df['pilot'] == 0]['revenue'])",
      "metadata": {
        "trusted": true
      },
      "outputs": [
        {
          "execution_count": 118,
          "output_type": "execute_result",
          "data": {
            "text/plain": "TtestResult(statistic=1.2837567415000515, pvalue=0.19923983306424942, df=23331.0)"
          },
          "metadata": {}
        }
      ],
      "execution_count": 118
    },
    {
      "cell_type": "markdown",
      "source": "# task 3",
      "metadata": {}
    },
    {
      "cell_type": "code",
      "source": "sales_df = pd.read_csv('2022-04-01T12_df_sales.csv')",
      "metadata": {
        "trusted": true
      },
      "outputs": [],
      "execution_count": 119
    },
    {
      "cell_type": "code",
      "source": "users_sample = sales_df.groupby('user_id')['sale_id'].count().reset_index().rename({'sale_id': 'sales_cnt'}, axis=1)\nusers_sample = users_sample[users_sample['sales_cnt'] > 1]",
      "metadata": {
        "trusted": true
      },
      "outputs": [],
      "execution_count": 135
    },
    {
      "cell_type": "code",
      "source": "users_sample.head()",
      "metadata": {
        "trusted": true
      },
      "outputs": [
        {
          "execution_count": 137,
          "output_type": "execute_result",
          "data": {
            "text/plain": "  user_id  sales_cnt\n0  000096          2\n1  0000d4          2\n2  0000de          3\n3  0000e4          2\n6  0001e2          2",
            "text/html": "<div>\n<style scoped>\n    .dataframe tbody tr th:only-of-type {\n        vertical-align: middle;\n    }\n\n    .dataframe tbody tr th {\n        vertical-align: top;\n    }\n\n    .dataframe thead th {\n        text-align: right;\n    }\n</style>\n<table border=\"1\" class=\"dataframe\">\n  <thead>\n    <tr style=\"text-align: right;\">\n      <th></th>\n      <th>user_id</th>\n      <th>sales_cnt</th>\n    </tr>\n  </thead>\n  <tbody>\n    <tr>\n      <th>0</th>\n      <td>000096</td>\n      <td>2</td>\n    </tr>\n    <tr>\n      <th>1</th>\n      <td>0000d4</td>\n      <td>2</td>\n    </tr>\n    <tr>\n      <th>2</th>\n      <td>0000de</td>\n      <td>3</td>\n    </tr>\n    <tr>\n      <th>3</th>\n      <td>0000e4</td>\n      <td>2</td>\n    </tr>\n    <tr>\n      <th>6</th>\n      <td>0001e2</td>\n      <td>2</td>\n    </tr>\n  </tbody>\n</table>\n</div>"
          },
          "metadata": {}
        }
      ],
      "execution_count": 137
    },
    {
      "cell_type": "code",
      "source": "users_df = sales_df.merge(users_sample, how='inner', on='user_id')[['date', 'user_id']]\nusers_df['date'] = pd.to_datetime(users_df['date'])\nusers_df = users_df.sort_values(['user_id', 'date'])",
      "metadata": {
        "trusted": true
      },
      "outputs": [],
      "execution_count": 160
    },
    {
      "cell_type": "code",
      "source": "users_df.head(10)",
      "metadata": {
        "trusted": true
      },
      "outputs": [
        {
          "execution_count": 161,
          "output_type": "execute_result",
          "data": {
            "text/plain": "                      date user_id\n149010 2022-03-04 11:15:55  000096\n149011 2022-03-22 13:16:09  000096\n141031 2022-02-28 16:32:09  0000d4\n141032 2022-03-27 11:26:30  0000d4\n65107  2022-02-11 18:57:15  0000de\n65108  2022-03-11 19:33:20  0000de\n65109  2022-03-25 17:01:47  0000de\n140100 2022-02-28 12:41:47  0000e4\n140101 2022-03-27 14:54:35  0000e4\n167837 2022-03-25 11:01:07  0001e2",
            "text/html": "<div>\n<style scoped>\n    .dataframe tbody tr th:only-of-type {\n        vertical-align: middle;\n    }\n\n    .dataframe tbody tr th {\n        vertical-align: top;\n    }\n\n    .dataframe thead th {\n        text-align: right;\n    }\n</style>\n<table border=\"1\" class=\"dataframe\">\n  <thead>\n    <tr style=\"text-align: right;\">\n      <th></th>\n      <th>date</th>\n      <th>user_id</th>\n    </tr>\n  </thead>\n  <tbody>\n    <tr>\n      <th>149010</th>\n      <td>2022-03-04 11:15:55</td>\n      <td>000096</td>\n    </tr>\n    <tr>\n      <th>149011</th>\n      <td>2022-03-22 13:16:09</td>\n      <td>000096</td>\n    </tr>\n    <tr>\n      <th>141031</th>\n      <td>2022-02-28 16:32:09</td>\n      <td>0000d4</td>\n    </tr>\n    <tr>\n      <th>141032</th>\n      <td>2022-03-27 11:26:30</td>\n      <td>0000d4</td>\n    </tr>\n    <tr>\n      <th>65107</th>\n      <td>2022-02-11 18:57:15</td>\n      <td>0000de</td>\n    </tr>\n    <tr>\n      <th>65108</th>\n      <td>2022-03-11 19:33:20</td>\n      <td>0000de</td>\n    </tr>\n    <tr>\n      <th>65109</th>\n      <td>2022-03-25 17:01:47</td>\n      <td>0000de</td>\n    </tr>\n    <tr>\n      <th>140100</th>\n      <td>2022-02-28 12:41:47</td>\n      <td>0000e4</td>\n    </tr>\n    <tr>\n      <th>140101</th>\n      <td>2022-03-27 14:54:35</td>\n      <td>0000e4</td>\n    </tr>\n    <tr>\n      <th>167837</th>\n      <td>2022-03-25 11:01:07</td>\n      <td>0001e2</td>\n    </tr>\n  </tbody>\n</table>\n</div>"
          },
          "metadata": {}
        }
      ],
      "execution_count": 161
    },
    {
      "cell_type": "code",
      "source": "users_df['shift'] = users_df.groupby('user_id')['date'].shift()",
      "metadata": {
        "trusted": true
      },
      "outputs": [],
      "execution_count": 162
    },
    {
      "cell_type": "code",
      "source": "users_df = users_df[users_df['shift'].isnull() == False]",
      "metadata": {
        "trusted": true
      },
      "outputs": [],
      "execution_count": 164
    },
    {
      "cell_type": "code",
      "source": "users_df['delta'] = users_df['date'] - users_df['shift']",
      "metadata": {
        "trusted": true
      },
      "outputs": [],
      "execution_count": 166
    },
    {
      "cell_type": "code",
      "source": "users_df.delta.mean()",
      "metadata": {
        "trusted": true
      },
      "outputs": [
        {
          "execution_count": 168,
          "output_type": "execute_result",
          "data": {
            "text/plain": "Timedelta('17 days 07:37:57.653431857')"
          },
          "metadata": {}
        }
      ],
      "execution_count": 168
    },
    {
      "cell_type": "markdown",
      "source": "## task 4",
      "metadata": {}
    },
    {
      "cell_type": "code",
      "source": "import numpy as np\nfrom scipy import stats\n\n\ndef get_ttest_pvalue(metrics_a_group, metrics_b_group):\n    return stats.ttest_ind(metrics_a_group, metrics_b_group).pvalue",
      "metadata": {
        "trusted": true
      },
      "outputs": [],
      "execution_count": 175
    },
    {
      "cell_type": "code",
      "source": "metrics_a_group = np.array([964, 1123, 962, 1213, 914, 906, 951, 1033, 987, 1082])\nmetrics_b_group = np.array([952, 1064, 1091, 1079, 1158, 921, 1161, 1064, 819, 1065])\npvalue = get_ttest_pvalue(metrics_a_group, metrics_b_group)\n# pvalue = 0.6122191629541949",
      "metadata": {
        "trusted": true
      },
      "outputs": [],
      "execution_count": 176
    },
    {
      "cell_type": "code",
      "source": "print(pvalue)",
      "metadata": {
        "trusted": true
      },
      "outputs": [
        {
          "name": "stdout",
          "text": "0.6122191629541949\n",
          "output_type": "stream"
        }
      ],
      "execution_count": 177
    },
    {
      "cell_type": "code",
      "source": "",
      "metadata": {
        "trusted": true
      },
      "outputs": [],
      "execution_count": null
    }
  ]
}