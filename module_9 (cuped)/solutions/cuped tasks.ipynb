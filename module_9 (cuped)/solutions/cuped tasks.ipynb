{
 "cells": [
  {
   "cell_type": "markdown",
   "id": "1cfaaf5d",
   "metadata": {},
   "source": [
    "## Задача 1. Оценка эксперимента с CUPED"
   ]
  },
  {
   "cell_type": "markdown",
   "id": "30eb4e32",
   "metadata": {},
   "source": [
    "Оцените эксперимент «Sending email (correct link)» с использованием CUPED. В качестве ковариаты используйте выручку пользователей за 4 недели до эксперимента.\n",
    "\n",
    "Данные эксперимента «Sending email (correct link)»: \"2022-05-03/2022-05-03T12_df_sales.csv\" и \"2022-05-03/experiment_users.csv\". Эксперимент проводился с 2022-04-25 по 2022-05-02. Метрика — средняя выручка с клиента.\n",
    "\n",
    "В качестве ответа введите p-value с точность до 4-го знака после точки."
   ]
  },
  {
   "cell_type": "code",
   "execution_count": 1,
   "id": "2e3d9b7e",
   "metadata": {
    "scrolled": false
   },
   "outputs": [],
   "source": [
    "import pandas as pd\n",
    "import numpy as np\n",
    "import os\n",
    "from scipy import stats\n",
    "from datetime import datetime, timedelta\n",
    "\n",
    "\n",
    "URL_BASE = 'https://raw.githubusercontent.com/ab-courses/simulator-ab-datasets/main/2022-05-03/'\n",
    "\n",
    "def read_database(file_name):\n",
    "    return pd.read_csv(os.path.join(URL_BASE, file_name))\n",
    "\n",
    "sales_df = read_database('2022-05-03T12_df_sales.csv')\n",
    "users_df = read_database('experiment_users.csv')\n"
   ]
  },
  {
   "cell_type": "code",
   "execution_count": 2,
   "id": "ee1d0e6c",
   "metadata": {},
   "outputs": [
    {
     "data": {
      "text/plain": [
       "109367"
      ]
     },
     "execution_count": 2,
     "metadata": {},
     "output_type": "execute_result"
    }
   ],
   "source": [
    "len(users_df)"
   ]
  },
  {
   "cell_type": "code",
   "execution_count": 3,
   "id": "7b906e11",
   "metadata": {},
   "outputs": [],
   "source": [
    "exp_start_dt = datetime(2022, 4, 25)\n",
    "exp_end_dt = exp_start_dt + timedelta(days=7)\n",
    "pre_period_start = exp_start_dt - timedelta(weeks=4)"
   ]
  },
  {
   "cell_type": "code",
   "execution_count": 4,
   "id": "091c0b08",
   "metadata": {},
   "outputs": [],
   "source": [
    "sales_df['date'] = sales_df.apply(lambda x: pd.to_datetime(x['date']), axis=1)\n",
    "\n",
    "sales_exp = sales_df[\n",
    "    (sales_df['date'] >= exp_start_dt)\n",
    "    &\n",
    "    (sales_df['date'] < exp_end_dt)\n",
    "].copy()\n",
    "\n",
    "sales_pre = sales_df[\n",
    "    (sales_df['date'] >= pre_period_start)\n",
    "    &\n",
    "    (sales_df['date'] < exp_start_dt)\n",
    "].copy()"
   ]
  },
  {
   "cell_type": "code",
   "execution_count": 5,
   "id": "196439ac",
   "metadata": {},
   "outputs": [],
   "source": [
    "users_exp = users_df.merge(sales_exp, how='left', on='user_id')\n",
    "users_exp['price'] = users_exp['price'].fillna(0).astype('int')\n",
    "users_exp = users_exp.groupby(['user_id', 'pilot']).price.sum().reset_index()\n",
    "\n",
    "users_pre = users_df.merge(sales_pre, how='left', on='user_id')\n",
    "users_pre['price'] = users_pre['price'].fillna(0).astype('int')\n",
    "users_pre = users_pre.groupby(['user_id', 'pilot']).price.sum().reset_index()\n",
    "users_pre = users_pre.rename({\n",
    "    'price': 'cov'\n",
    "}, axis=1)"
   ]
  },
  {
   "cell_type": "code",
   "execution_count": 6,
   "id": "9492ebc1",
   "metadata": {},
   "outputs": [],
   "source": [
    "exp_x_pre_df = users_exp.merge(users_pre, how='inner', on=['user_id', 'pilot'])"
   ]
  },
  {
   "cell_type": "code",
   "execution_count": 7,
   "id": "138a6698",
   "metadata": {},
   "outputs": [],
   "source": [
    "users_test = exp_x_pre_df[exp_x_pre_df['pilot'] == 1].copy()\n",
    "users_control = exp_x_pre_df[exp_x_pre_df['pilot'] == 0].copy()\n"
   ]
  },
  {
   "cell_type": "code",
   "execution_count": 8,
   "id": "18f75044",
   "metadata": {},
   "outputs": [
    {
     "name": "stdout",
     "output_type": "stream",
     "text": [
      "321.47956288554116 313.2905217772581\n"
     ]
    }
   ],
   "source": [
    "print(users_test.price.mean(), users_control.price.mean())"
   ]
  },
  {
   "cell_type": "code",
   "execution_count": 9,
   "id": "981298ea",
   "metadata": {},
   "outputs": [
    {
     "name": "stdout",
     "output_type": "stream",
     "text": [
      "109367\n"
     ]
    }
   ],
   "source": [
    "print(len(users_test) + len(users_control))"
   ]
  },
  {
   "cell_type": "code",
   "execution_count": 10,
   "id": "ed4758ca",
   "metadata": {},
   "outputs": [],
   "source": [
    "help_df = pd.read_csv('df_metrics_1000.csv')"
   ]
  },
  {
   "cell_type": "code",
   "execution_count": 11,
   "id": "d6d16f70",
   "metadata": {},
   "outputs": [],
   "source": [
    "help_df = help_df.rename({\n",
    "    'pilot': 'pilot_help',\n",
    "    'metric': 'metric_help',\n",
    "    'cov': 'cov_help'\n",
    "}, axis=1)"
   ]
  },
  {
   "cell_type": "code",
   "execution_count": 12,
   "id": "fe22f50e",
   "metadata": {},
   "outputs": [],
   "source": [
    "tmp_res = pd.concat([users_test, users_control])"
   ]
  },
  {
   "cell_type": "code",
   "execution_count": 13,
   "id": "6be2f1e1",
   "metadata": {},
   "outputs": [],
   "source": [
    "tmp_res = tmp_res.merge(help_df, how='inner', on='user_id')"
   ]
  },
  {
   "cell_type": "code",
   "execution_count": 14,
   "id": "fc8f90b4",
   "metadata": {},
   "outputs": [
    {
     "data": {
      "text/html": [
       "<div>\n",
       "<style scoped>\n",
       "    .dataframe tbody tr th:only-of-type {\n",
       "        vertical-align: middle;\n",
       "    }\n",
       "\n",
       "    .dataframe tbody tr th {\n",
       "        vertical-align: top;\n",
       "    }\n",
       "\n",
       "    .dataframe thead th {\n",
       "        text-align: right;\n",
       "    }\n",
       "</style>\n",
       "<table border=\"1\" class=\"dataframe\">\n",
       "  <thead>\n",
       "    <tr style=\"text-align: right;\">\n",
       "      <th></th>\n",
       "      <th>user_id</th>\n",
       "      <th>pilot</th>\n",
       "      <th>price</th>\n",
       "      <th>cov</th>\n",
       "      <th>pilot_help</th>\n",
       "      <th>metric_help</th>\n",
       "      <th>cov_help</th>\n",
       "    </tr>\n",
       "  </thead>\n",
       "  <tbody>\n",
       "  </tbody>\n",
       "</table>\n",
       "</div>"
      ],
      "text/plain": [
       "Empty DataFrame\n",
       "Columns: [user_id, pilot, price, cov, pilot_help, metric_help, cov_help]\n",
       "Index: []"
      ]
     },
     "execution_count": 14,
     "metadata": {},
     "output_type": "execute_result"
    }
   ],
   "source": [
    "tmp_res[\n",
    "    (tmp_res['pilot'] != tmp_res['pilot_help'])\n",
    "    |\n",
    "    (tmp_res['price'] != tmp_res['metric_help'])\n",
    "    |\n",
    "    (tmp_res['cov'] != tmp_res['cov_help'])\n",
    "]"
   ]
  },
  {
   "cell_type": "code",
   "execution_count": 52,
   "id": "744d1698",
   "metadata": {},
   "outputs": [],
   "source": [
    "def calculate_teta(df):\n",
    "    covariance = np.cov(df['cov'], df['price'])[0, 1]\n",
    "    variance = np.var(df['cov'])\n",
    "    print(covariance, variance)\n",
    "    return covariance / variance"
   ]
  },
  {
   "cell_type": "code",
   "execution_count": 53,
   "id": "dd615d92",
   "metadata": {},
   "outputs": [
    {
     "name": "stdout",
     "output_type": "stream",
     "text": [
      "164508.86473543497 1860131.18327586\n"
     ]
    }
   ],
   "source": [
    "common_theta = calculate_teta(pd.concat([users_test, users_control]))"
   ]
  },
  {
   "cell_type": "code",
   "execution_count": 47,
   "id": "045e9bfb",
   "metadata": {},
   "outputs": [],
   "source": [
    "def calculate_cuped_metric(df):\n",
    "    \n",
    "    teta = common_theta\n",
    "    \n",
    "    x_predict = calc_predict(df)\n",
    "\n",
    "    df['cuped_metric'] = df.apply(lambda x: x['price'] - teta * x['cov'], axis=1)\n",
    "    \n",
    "    return df[['cuped_metric']]"
   ]
  },
  {
   "cell_type": "code",
   "execution_count": 48,
   "id": "03c77af7",
   "metadata": {},
   "outputs": [],
   "source": [
    "test_cuped = calculate_cuped_metric(users_test.copy())\n",
    "control_cuped = calculate_cuped_metric(users_control.copy())\n"
   ]
  },
  {
   "cell_type": "code",
   "execution_count": 49,
   "id": "4f1e1d23",
   "metadata": {},
   "outputs": [
    {
     "name": "stdout",
     "output_type": "stream",
     "text": [
      "54631 54736\n"
     ]
    }
   ],
   "source": [
    "print(len(test_cuped), len(control_cuped))"
   ]
  },
  {
   "cell_type": "code",
   "execution_count": 50,
   "id": "5ef4d01c",
   "metadata": {},
   "outputs": [],
   "source": [
    "_, pvalue = stats.ttest_ind(test_cuped, control_cuped)"
   ]
  },
  {
   "cell_type": "code",
   "execution_count": 51,
   "id": "ca5d79ba",
   "metadata": {},
   "outputs": [
    {
     "data": {
      "text/plain": [
       "array([0.05394612])"
      ]
     },
     "execution_count": 51,
     "metadata": {},
     "output_type": "execute_result"
    }
   ],
   "source": [
    "pvalue"
   ]
  },
  {
   "cell_type": "code",
   "execution_count": null,
   "id": "a8c2dd84",
   "metadata": {},
   "outputs": [],
   "source": []
  },
  {
   "cell_type": "markdown",
   "id": "3f2e3ecb",
   "metadata": {},
   "source": [
    "## Задача 2. Функция вычисления CUPED-метрики"
   ]
  },
  {
   "cell_type": "markdown",
   "id": "b6bb97f0",
   "metadata": {},
   "source": [
    "Реализуйте функцию calculate_cuped_metric.\n",
    "\n",
    "Обратите внимание, что в этом задании нужно использовать формулу из лекции с вычитанием среднего значения ковариаты.\n",
    "\n",
    "Внимание!\n",
    "Для вычисления параметра θ нужно оценить ковариацию и дисперсию. Оценивать их можно разными способами, например, есть смещённые и несмещённые оценки. На выборках маленького размера значения разных оценок могут сильно отличаться. Для решения этого задания используйте функции из библиотеки numpy с параметрами по умолчанию."
   ]
  },
  {
   "cell_type": "code",
   "execution_count": 23,
   "id": "51af9720",
   "metadata": {},
   "outputs": [],
   "source": [
    "import numpy as np\n",
    "import pandas as pd\n",
    "\n",
    "\n",
    "def calculate_teta(df):\n",
    "    return np.cov(df['metric'], df['cov'])[0, 1] / np.var(df['cov'])\n",
    "\n",
    "\n",
    "def calculate_cuped_metric(df_metric, df_cov):\n",
    "    \"\"\"Считает значения cuped-метрики.\n",
    "\n",
    "    :param df_metric (pd.DataFrame): таблица со значениями метрики во время эксперимента\n",
    "        со столбцами ['user_id', 'metric'].\n",
    "    :param df_cov (pd.DataFrame): таблица со значениями ковариаты\n",
    "        со столбцами ['user_id', 'cov'].\n",
    "    :return df: таблица со значениями cuped-метрики со столбцами ['user_id', 'metric'].\n",
    "    \"\"\"\n",
    "    \n",
    "    metric_x_cov = df_metric.merge(df_cov, how='left', on='user_id')\n",
    "    \n",
    "    print(metric_x_cov)\n",
    "    \n",
    "    teta = calculate_teta(metric_x_cov)\n",
    "    mean_x = df_cov['cov'].sum() / len(df_cov)\n",
    "    \n",
    "    print(teta, mean_x)\n",
    "    \n",
    "    metric_x_cov['metric'] = metric_x_cov.apply(lambda x: x['metric'] - teta * (x['cov'] - mean_x), axis=1)\n",
    "    \n",
    "    return metric_x_cov[['user_id', 'metric']]\n",
    "    \n",
    "    \n",
    "    "
   ]
  },
  {
   "cell_type": "code",
   "execution_count": 24,
   "id": "825836c5",
   "metadata": {},
   "outputs": [
    {
     "name": "stdout",
     "output_type": "stream",
     "text": [
      "   user_id  metric   cov\n",
      "0        1    2000  1100\n",
      "1        2    2500  1500\n",
      "2        3    3000     0\n",
      "-0.6837016574585636 866.6666666666666\n"
     ]
    }
   ],
   "source": [
    "df_metric = pd.DataFrame({'user_id': [1, 2, 3], 'metric': [2000, 2500, 3000]})\n",
    "df_cov = pd.DataFrame({'user_id': [1, 2, 3], 'cov': [1100, 1500, 0]})\n",
    "\n",
    "df = calculate_cuped_metric(df_metric, df_cov)\n",
    "# df = pd.DataFrame({'user_id': [1, 2, 3], 'metric': [2159.53, 2933.01, 2407.46]})"
   ]
  },
  {
   "cell_type": "code",
   "execution_count": 25,
   "id": "2b6eeeb4",
   "metadata": {},
   "outputs": [
    {
     "name": "stdout",
     "output_type": "stream",
     "text": [
      "   user_id       metric\n",
      "0        1  2159.530387\n",
      "1        2  2933.011050\n",
      "2        3  2407.458564\n"
     ]
    }
   ],
   "source": [
    "print(df)"
   ]
  },
  {
   "cell_type": "code",
   "execution_count": null,
   "id": "cc924008",
   "metadata": {},
   "outputs": [],
   "source": []
  },
  {
   "cell_type": "code",
   "execution_count": null,
   "id": "fdc4fe8d",
   "metadata": {},
   "outputs": [],
   "source": []
  }
 ],
 "metadata": {
  "kernelspec": {
   "display_name": "Python 3 (ipykernel)",
   "language": "python",
   "name": "python3"
  },
  "language_info": {
   "codemirror_mode": {
    "name": "ipython",
    "version": 3
   },
   "file_extension": ".py",
   "mimetype": "text/x-python",
   "name": "python",
   "nbconvert_exporter": "python",
   "pygments_lexer": "ipython3",
   "version": "3.9.6"
  }
 },
 "nbformat": 4,
 "nbformat_minor": 5
}
