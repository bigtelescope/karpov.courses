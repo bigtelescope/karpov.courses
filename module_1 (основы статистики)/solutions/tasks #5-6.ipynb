{
  "metadata": {
    "kernelspec": {
      "name": "python",
      "display_name": "Python (Pyodide)",
      "language": "python"
    },
    "language_info": {
      "codemirror_mode": {
        "name": "python",
        "version": 3
      },
      "file_extension": ".py",
      "mimetype": "text/x-python",
      "name": "python",
      "nbconvert_exporter": "python",
      "pygments_lexer": "ipython3",
      "version": "3.8"
    }
  },
  "nbformat_minor": 4,
  "nbformat": 4,
  "cells": [
    {
      "cell_type": "markdown",
      "source": "## Задача 5. Функция для фильтрации данных\n\n#### Для оценки результатов экспериментов нам нужно выбрать данные, полученные во время эксперимента. Напишите функцию get_data_subset",
      "metadata": {}
    },
    {
      "cell_type": "code",
      "source": "from datetime import datetime\n\nimport pandas as pd\n\n\ndef get_data_subset(df, begin_date, end_date, user_ids=None, columns=None):\n    \"\"\"Возвращает подмножество данных.\n\n    :param df (pd.DataFrame): таблица с данными, обязательные столбцы: 'date', 'user_id'.\n    :param begin_date (datetime.datetime | None): дата начала интервала с данными.\n        Пример, df[df['date'] >= begin_date].\n        Если None, то фильтровать не нужно.\n    :param end_date (datetime.datetime | None): дата окончания интервала с данными.\n        Пример, df[df['date'] < end_date].\n        Если None, то фильтровать не нужно.\n    :param user_ids (list[str] | None): список user_id, по которым нужно предоставить данные.\n        Пример, df[df['user_id'].isin(user_ids)].\n        Если None, то фильтровать по user_id не нужно.\n    :param columns (list[str] | None): список названий столбцов, по которым нужно предоставить данные.\n        Пример, df[columns].\n        Если None, то фильтровать по columns не нужно.\n\n    :return df (pd.DataFrame): датафрейм с подмножеством данных.\n    \"\"\"\n    result_df = df.copy(deep=True)\n\n    if begin_date is not None:\n        result_df = result_df[result_df['date'] >= begin_date]\n\n    if end_date is not None:\n        result_df = result_df[result_df['date'] < end_date]\n\n    if user_ids is not None:\n        result_df = result_df[result_df['user_id'].isin(user_ids)]\n\n    if columns is not None:\n        result_df = result_df[columns]\n\n    return result_df",
      "metadata": {
        "trusted": true
      },
      "outputs": [],
      "execution_count": 40
    },
    {
      "cell_type": "code",
      "source": "df = pd.DataFrame({\n    'date': [datetime(2021, 10, 5), datetime(2022, 1, 5), datetime(2022, 1, 7)],\n    'user_id': ['0', '1', '2'],\n})\n\nprint(get_data_subset(df, datetime(2022, 1, 1), datetime(2022, 1, 6)))",
      "metadata": {
        "trusted": true
      },
      "outputs": [
        {
          "name": "stdout",
          "text": "        date user_id\n1 2022-01-05       1\n",
          "output_type": "stream"
        }
      ],
      "execution_count": 9
    },
    {
      "cell_type": "markdown",
      "source": "## Задача 6. Функции вычисления метрик\n\n#### Напишите функции get_response_time, get_revenue_web и get_revenue_all для вычисления метрик «revenue (web)», «revenue (all)» и «response time»",
      "metadata": {}
    },
    {
      "cell_type": "code",
      "source": "from datetime import datetime\nimport pandas as pd\n\ndf_sales_, df_web_logs_ = pd.read_csv('sales.csv'), pd.read_csv('web_logs.csv')",
      "metadata": {
        "trusted": true
      },
      "outputs": [],
      "execution_count": 1
    },
    {
      "cell_type": "code",
      "source": "import pandas as pd\n\nfrom datetime import datetime\n\n\ndef get_response_time(df_web_logs, begin_date, end_date):\n    \"\"\"Вычисляет значения времени обработки запроса сервером.\n\n    Нужно вернуть значения user_id и load_time из таблицы df_web_logs,\n    отфильтрованные по дате.\n    Считаем, что запросы обрабатываются независимо, поэтому группировать\n    по user_id не нужно.\n\n    :param df_web_logs (pd.DataFrame): таблица с логами сайта, содержит\n    столбцы ['user_id', 'date', 'load_time'].\n    :param begin_date, end_date (datetime): границы периода для\n    фильтрации данных по дате. Левая граница входит, правая не входит.\n\n    :return (pd.DataFrame): датафрейм с двумя столбцами ['user_id', 'metric']\n    \"\"\"\n    result_df = df_web_logs[(df_web_logs['date'] >= begin_date) & (df_web_logs['date'] < end_date)][['user_id', 'load_time']]\n    result_df = result_df.rename({'load_time': 'metric'}, axis=1)\n    \n    return result_df\n\n\ndef get_revenue_web(df_sales, df_web_logs, begin_date, end_date):\n    \"\"\"Вычисляет значения выручки с пользователя за указанный период\n    для заходивших на сайт в указанный период.\n\n    Эти данные нужны для экспериментов на сайте, когда в эксперимент\n    попадают только те, кто заходил на сайт во время эксперимента.\n\n    Нужно вернуть значения user_id и выручки (sum(price)) за указанный\n    период для пользователей, заходивших на сайт в указанный период.\n    Если пользователь зашёл на сайт и ничего не купил, его суммарная\n    стоимость покупок равна нулю.\n    Для каждого user_id должно быть ровно одно значение.\n\n    :param df_sales (pd.DataFrame): таблица с продажами, содержит\n        столбцы ['user_id', 'date', 'price'].\n    :param df_web_logs (pd.DataFrame): таблица с логами сайта, содержит\n        столбцы ['user_id', 'date', 'load_time'].\n    :param begin_date, end_date (datetime): границы периода для фильтрации\n        данных по дате. Левая граница входит, правая не входит.\n\n    :return (pd.DataFrame): датафрейм с двумя столбцами ['user_id', 'metric']\n    \"\"\"\n    \n    df_web_logs['date']= pd.to_datetime(df_web_logs['date'])\n    unique_visitors = df_web_logs[(df_web_logs['date'] >= begin_date) & (df_web_logs['date'] < end_date)][['user_id']]\n    unique_visitors = unique_visitors.drop_duplicates()\n\n    df_sales['date']= pd.to_datetime(df_sales['date'])\n    df_sales = df_sales[(df_sales['date'] >= begin_date) & (df_sales['date'] < end_date)]\n\n    result_df = unique_visitors.merge(df_sales, how='left', on='user_id')[['user_id', 'price']]\n    result_df['price'] = result_df['price'].fillna(0)\n    result_df = result_df.groupby('user_id')['price'].sum().reset_index()\n\n    return result_df.rename({'price': 'metric'}, axis=1)\n\n\ndef get_revenue_all(df_sales, df_web_logs, begin_date, end_date):\n    \"\"\"Вычисляет значения выручки с пользователя за указанный период\n    для заходивших на сайт до end_date.\n\n    Эти данные нужны, например, для экспериментов с рассылкой по email,\n    когда в эксперимент попадают те, кто когда-либо оставил нам свои данные.\n\n    Нужно вернуть значения user_id и выручки (sum(price)) за указанный период\n    для пользователей, заходивших на сайт до end_date.\n    Если пользователь ничего не купил за указанный период, его суммарная\n    стоимость покупок равна нулю.\n    Для каждого user_id должно быть ровно одно значение.\n\n    :param df_sales (pd.DataFrame): таблица с продажами, содержит\n        столбцы ['user_id', 'date', 'price'].\n    :param df_web_logs (pd.DataFrame): таблица с логами сайта, содержит\n        столбцы ['user_id', 'date', 'load_time'].\n    :param begin_date, end_date (datetime): границы периода для фильтрации\n        данных по дате. Левая граница входит, правая не входит.\n\n    :return (pd.DataFrame): датафрейм с двумя столбцами ['user_id', 'metric']\n    \"\"\"\n    df_web_logs['date']= pd.to_datetime(df_web_logs['date'])\n    unique_visitors = df_web_logs[df_web_logs['date'] < end_date][['user_id']]\n    unique_visitors = unique_visitors.drop_duplicates()\n\n    df_sales['date']= pd.to_datetime(df_sales['date'])\n    df_sales = df_sales[(df_sales['date'] >= begin_date) & (df_sales['date'] < end_date)]\n\n    result_df = unique_visitors.merge(df_sales, how='left', on='user_id')[['user_id', 'price']]\n    result_df['price'] = result_df['price'].fillna(0)\n    result_df = result_df.groupby('user_id')['price'].sum().reset_index().rename({'price': 'metric'}, axis=1)\n    result_df['metric'] = result_df['metric'].astype(int)\n\n    return result_df",
      "metadata": {
        "trusted": true
      },
      "outputs": [],
      "execution_count": 50
    },
    {
      "cell_type": "code",
      "source": "df_sales = pd.DataFrame({\n    'date': [datetime(2022, 3, day, 11) for day in range(11, 14)],\n    'price': [1100, 900, 1500],\n    'user_id': ['1', '2', '1'],\n})\ndf_web_logs = pd.DataFrame({\n    'date': [datetime(2022, 3, day, 11) for day in range(10, 14)],\n    'load_time': [80.8, 90.1, 15.8, 19.7],\n    'user_id': ['3', '1', '2', '1'],\n})\nbegin_date = datetime(2022, 3, 11, 9)\nend_date = datetime(2022, 4, 11, 9)\n\nresponse_time = get_response_time(df_web_logs, begin_date, end_date)\n# response_time = pd.DataFrame({'user_id': ['1', '2', '1'], 'metric': [90.1, 15.8, 19.7],})\n\nrevenue_web = get_revenue_web(df_sales, df_web_logs, begin_date, end_date)\n# revenue_web = pd.DataFrame({'user_id': ['1', '2'], 'metric': [2600, 900],})\n\nrevenue_all = get_revenue_all(df_sales, df_web_logs, begin_date, end_date)\n# revenue_all = pd.DataFrame({'user_id': ['1', '2', '3'], 'metric': [2600, 900, 0],})",
      "metadata": {
        "trusted": true
      },
      "outputs": [],
      "execution_count": 51
    },
    {
      "cell_type": "code",
      "source": "print(response_time)",
      "metadata": {
        "trusted": true
      },
      "outputs": [
        {
          "name": "stdout",
          "text": "  user_id  metric\n1       1    90.1\n2       2    15.8\n3       1    19.7\n",
          "output_type": "stream"
        }
      ],
      "execution_count": 52
    },
    {
      "cell_type": "code",
      "source": "print(revenue_web)",
      "metadata": {
        "trusted": true
      },
      "outputs": [
        {
          "name": "stdout",
          "text": "  user_id  metric\n0       1    2600\n1       2     900\n",
          "output_type": "stream"
        }
      ],
      "execution_count": 53
    },
    {
      "cell_type": "code",
      "source": "revenue_all",
      "metadata": {
        "trusted": true
      },
      "outputs": [
        {
          "execution_count": 54,
          "output_type": "execute_result",
          "data": {
            "text/plain": "  user_id  metric\n0       1    2600\n1       2     900\n2       3       0",
            "text/html": "<div>\n<style scoped>\n    .dataframe tbody tr th:only-of-type {\n        vertical-align: middle;\n    }\n\n    .dataframe tbody tr th {\n        vertical-align: top;\n    }\n\n    .dataframe thead th {\n        text-align: right;\n    }\n</style>\n<table border=\"1\" class=\"dataframe\">\n  <thead>\n    <tr style=\"text-align: right;\">\n      <th></th>\n      <th>user_id</th>\n      <th>metric</th>\n    </tr>\n  </thead>\n  <tbody>\n    <tr>\n      <th>0</th>\n      <td>1</td>\n      <td>2600</td>\n    </tr>\n    <tr>\n      <th>1</th>\n      <td>2</td>\n      <td>900</td>\n    </tr>\n    <tr>\n      <th>2</th>\n      <td>3</td>\n      <td>0</td>\n    </tr>\n  </tbody>\n</table>\n</div>"
          },
          "metadata": {}
        }
      ],
      "execution_count": 54
    },
    {
      "cell_type": "code",
      "source": "",
      "metadata": {
        "trusted": true
      },
      "outputs": [],
      "execution_count": null
    }
  ]
}