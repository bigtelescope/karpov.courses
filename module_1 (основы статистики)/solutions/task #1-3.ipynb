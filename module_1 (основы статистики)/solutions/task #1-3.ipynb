{
  "metadata": {
    "kernelspec": {
      "name": "python",
      "display_name": "Python (Pyodide)",
      "language": "python"
    },
    "language_info": {
      "codemirror_mode": {
        "name": "python",
        "version": 3
      },
      "file_extension": ".py",
      "mimetype": "text/x-python",
      "name": "python",
      "nbconvert_exporter": "python",
      "pygments_lexer": "ipython3",
      "version": "3.8"
    }
  },
  "nbformat_minor": 4,
  "nbformat": 4,
  "cells": [
    {
      "cell_type": "markdown",
      "source": "## Задача №0 на разогрев\n\n#### Натан выполняет 60% штрафных бросков. Если он выполнит 12 штрафных бросков, какова вероятность того, что он сделает ровно 10?",
      "metadata": {}
    },
    {
      "cell_type": "code",
      "source": "import numpy as np\nfrom scipy.stats import binom",
      "metadata": {
        "trusted": true
      },
      "outputs": [],
      "execution_count": 17
    },
    {
      "cell_type": "code",
      "source": "n = 12\np = 0.6\nk = 10",
      "metadata": {
        "trusted": true
      },
      "outputs": [],
      "execution_count": 18
    },
    {
      "cell_type": "code",
      "source": "print(binom.pmf(k, n, p))",
      "metadata": {
        "trusted": true
      },
      "outputs": [
        {
          "name": "stdout",
          "text": "0.06385228185600003\n",
          "output_type": "stream"
        }
      ],
      "execution_count": 19
    },
    {
      "cell_type": "markdown",
      "source": "## Задача №1\n\n#### Допустим, новый заказ стоит больше 1000 рублей с вероятностью 0.4. Оцените вероятность того, что из 100 новых заказов 50 или более стоят дороже 1000 рублей.",
      "metadata": {}
    },
    {
      "cell_type": "code",
      "source": "import numpy as np\nfrom scipy.stats import binom\n\nn = 100\np = 0.4\nk = 50",
      "metadata": {
        "trusted": true
      },
      "outputs": [],
      "execution_count": 20
    },
    {
      "cell_type": "code",
      "source": "final_sum = 0\nfor k in range(50, 101):\n    final_sum += binom.pmf(k, n, p)\n\nprint(final_sum)",
      "metadata": {
        "trusted": true
      },
      "outputs": [
        {
          "name": "stdout",
          "text": "0.02709919775700913\n",
          "output_type": "stream"
        }
      ],
      "execution_count": 21
    },
    {
      "cell_type": "markdown",
      "source": "## Задача №2\n\n#### Определите топ-3 товара по суммарной выручке. Для решения используйте данные из файла 'sample_1.csv'",
      "metadata": {}
    },
    {
      "cell_type": "code",
      "source": "import pandas as pd\ndf = pd.read_csv(\"sample_1.csv\")",
      "metadata": {
        "trusted": true
      },
      "outputs": [],
      "execution_count": 22
    },
    {
      "cell_type": "code",
      "source": "df.groupby('good').sum('price').sort_values('price', ascending=False).head(3)",
      "metadata": {
        "trusted": true
      },
      "outputs": [
        {
          "execution_count": 27,
          "output_type": "execute_result",
          "data": {
            "text/plain": "                            sale_id     price\ngood                                         \nchefs pizza             32237367353  24558240\ndouble pepperoni pizza  31871262311  22558380\nchicken bbq pizza       24906617611  17622540",
            "text/html": "<div>\n<style scoped>\n    .dataframe tbody tr th:only-of-type {\n        vertical-align: middle;\n    }\n\n    .dataframe tbody tr th {\n        vertical-align: top;\n    }\n\n    .dataframe thead th {\n        text-align: right;\n    }\n</style>\n<table border=\"1\" class=\"dataframe\">\n  <thead>\n    <tr style=\"text-align: right;\">\n      <th></th>\n      <th>sale_id</th>\n      <th>price</th>\n    </tr>\n    <tr>\n      <th>good</th>\n      <th></th>\n      <th></th>\n    </tr>\n  </thead>\n  <tbody>\n    <tr>\n      <th>chefs pizza</th>\n      <td>32237367353</td>\n      <td>24558240</td>\n    </tr>\n    <tr>\n      <th>double pepperoni pizza</th>\n      <td>31871262311</td>\n      <td>22558380</td>\n    </tr>\n    <tr>\n      <th>chicken bbq pizza</th>\n      <td>24906617611</td>\n      <td>17622540</td>\n    </tr>\n  </tbody>\n</table>\n</div>"
          },
          "metadata": {}
        }
      ],
      "execution_count": 27
    },
    {
      "cell_type": "markdown",
      "source": "## Задача №3\n\n#### Оцените средний срок, который проходит от захода пользователя на сайт до совершения покупки. Будем считать, что заход на сайт относится к покупке, если он был совершён не ранее, чем за два часа до совершения покупки. Другими словами, для каждой покупки нужно посчитать время, которое проходит от покупки до первого захода на сайт того же пользователя в течение двух часов перед покупкой. И от полученных значений времени посчитать среднее.\n\n##### Для решения используйте данные из файлов sample_2.csv и sample_3.csv",
      "metadata": {}
    },
    {
      "cell_type": "code",
      "source": "import pandas as pd\n\nsales = pd.read_csv(\"sample_2.csv\")\nlogs = pd.read_csv(\"sample_3.csv\")",
      "metadata": {
        "trusted": true
      },
      "outputs": [],
      "execution_count": 7
    },
    {
      "cell_type": "code",
      "source": "sales_cut = sales[['sale_id', 'date', 'user_id']]\nsales_cut = sales_cut.rename(columns={'date': 'sale_date'})",
      "metadata": {
        "trusted": true
      },
      "outputs": [],
      "execution_count": 8
    },
    {
      "cell_type": "code",
      "source": "logs_cut = logs[['date', 'user_id']]\nlogs_cut = logs_cut.rename(columns={'date': 'visit_date'})",
      "metadata": {
        "trusted": true
      },
      "outputs": [],
      "execution_count": 9
    },
    {
      "cell_type": "code",
      "source": "df = logs_cut.merge(sales_cut, how='inner', on='user_id')",
      "metadata": {
        "trusted": true
      },
      "outputs": [],
      "execution_count": 14
    },
    {
      "cell_type": "code",
      "source": "df[(df['sale_id'] == 1120029) | (df['sale_id'] == 1166145)].sort_values(['sale_id', 'visit_date'])",
      "metadata": {
        "trusted": true
      },
      "outputs": [
        {
          "execution_count": 21,
          "output_type": "execute_result",
          "data": {
            "text/plain": "                  visit_date user_id  sale_id            sale_date\n3626630  2022-03-08 19:34:45  8c5976  1120029  2022-03-08 19:53:13\n3626632  2022-03-08 19:35:33  8c5976  1120029  2022-03-08 19:53:13\n3626634  2022-03-08 19:36:42  8c5976  1120029  2022-03-08 19:53:13\n3626636  2022-03-08 19:42:08  8c5976  1120029  2022-03-08 19:53:13\n3626638  2022-03-08 19:46:21  8c5976  1120029  2022-03-08 19:53:13\n3626640  2022-03-08 19:49:57  8c5976  1120029  2022-03-08 19:53:13\n3626642  2022-03-08 19:50:18  8c5976  1120029  2022-03-08 19:53:13\n3626644  2022-03-08 19:53:09  8c5976  1120029  2022-03-08 19:53:13\n3626648       2022-03-21 15:  8c5976  1120029  2022-03-08 19:53:13\n3626646  2022-03-21 15:39:49  8c5976  1120029  2022-03-08 19:53:13\n3626631  2022-03-08 19:34:45  8c5976  1166145  2022-03-21 15:57:58\n3626633  2022-03-08 19:35:33  8c5976  1166145  2022-03-21 15:57:58\n3626635  2022-03-08 19:36:42  8c5976  1166145  2022-03-21 15:57:58\n3626637  2022-03-08 19:42:08  8c5976  1166145  2022-03-21 15:57:58\n3626639  2022-03-08 19:46:21  8c5976  1166145  2022-03-21 15:57:58\n3626641  2022-03-08 19:49:57  8c5976  1166145  2022-03-21 15:57:58\n3626643  2022-03-08 19:50:18  8c5976  1166145  2022-03-21 15:57:58\n3626645  2022-03-08 19:53:09  8c5976  1166145  2022-03-21 15:57:58\n3626649       2022-03-21 15:  8c5976  1166145  2022-03-21 15:57:58\n3626647  2022-03-21 15:39:49  8c5976  1166145  2022-03-21 15:57:58",
            "text/html": "<div>\n<style scoped>\n    .dataframe tbody tr th:only-of-type {\n        vertical-align: middle;\n    }\n\n    .dataframe tbody tr th {\n        vertical-align: top;\n    }\n\n    .dataframe thead th {\n        text-align: right;\n    }\n</style>\n<table border=\"1\" class=\"dataframe\">\n  <thead>\n    <tr style=\"text-align: right;\">\n      <th></th>\n      <th>visit_date</th>\n      <th>user_id</th>\n      <th>sale_id</th>\n      <th>sale_date</th>\n    </tr>\n  </thead>\n  <tbody>\n    <tr>\n      <th>3626630</th>\n      <td>2022-03-08 19:34:45</td>\n      <td>8c5976</td>\n      <td>1120029</td>\n      <td>2022-03-08 19:53:13</td>\n    </tr>\n    <tr>\n      <th>3626632</th>\n      <td>2022-03-08 19:35:33</td>\n      <td>8c5976</td>\n      <td>1120029</td>\n      <td>2022-03-08 19:53:13</td>\n    </tr>\n    <tr>\n      <th>3626634</th>\n      <td>2022-03-08 19:36:42</td>\n      <td>8c5976</td>\n      <td>1120029</td>\n      <td>2022-03-08 19:53:13</td>\n    </tr>\n    <tr>\n      <th>3626636</th>\n      <td>2022-03-08 19:42:08</td>\n      <td>8c5976</td>\n      <td>1120029</td>\n      <td>2022-03-08 19:53:13</td>\n    </tr>\n    <tr>\n      <th>3626638</th>\n      <td>2022-03-08 19:46:21</td>\n      <td>8c5976</td>\n      <td>1120029</td>\n      <td>2022-03-08 19:53:13</td>\n    </tr>\n    <tr>\n      <th>3626640</th>\n      <td>2022-03-08 19:49:57</td>\n      <td>8c5976</td>\n      <td>1120029</td>\n      <td>2022-03-08 19:53:13</td>\n    </tr>\n    <tr>\n      <th>3626642</th>\n      <td>2022-03-08 19:50:18</td>\n      <td>8c5976</td>\n      <td>1120029</td>\n      <td>2022-03-08 19:53:13</td>\n    </tr>\n    <tr>\n      <th>3626644</th>\n      <td>2022-03-08 19:53:09</td>\n      <td>8c5976</td>\n      <td>1120029</td>\n      <td>2022-03-08 19:53:13</td>\n    </tr>\n    <tr>\n      <th>3626648</th>\n      <td>2022-03-21 15:</td>\n      <td>8c5976</td>\n      <td>1120029</td>\n      <td>2022-03-08 19:53:13</td>\n    </tr>\n    <tr>\n      <th>3626646</th>\n      <td>2022-03-21 15:39:49</td>\n      <td>8c5976</td>\n      <td>1120029</td>\n      <td>2022-03-08 19:53:13</td>\n    </tr>\n    <tr>\n      <th>3626631</th>\n      <td>2022-03-08 19:34:45</td>\n      <td>8c5976</td>\n      <td>1166145</td>\n      <td>2022-03-21 15:57:58</td>\n    </tr>\n    <tr>\n      <th>3626633</th>\n      <td>2022-03-08 19:35:33</td>\n      <td>8c5976</td>\n      <td>1166145</td>\n      <td>2022-03-21 15:57:58</td>\n    </tr>\n    <tr>\n      <th>3626635</th>\n      <td>2022-03-08 19:36:42</td>\n      <td>8c5976</td>\n      <td>1166145</td>\n      <td>2022-03-21 15:57:58</td>\n    </tr>\n    <tr>\n      <th>3626637</th>\n      <td>2022-03-08 19:42:08</td>\n      <td>8c5976</td>\n      <td>1166145</td>\n      <td>2022-03-21 15:57:58</td>\n    </tr>\n    <tr>\n      <th>3626639</th>\n      <td>2022-03-08 19:46:21</td>\n      <td>8c5976</td>\n      <td>1166145</td>\n      <td>2022-03-21 15:57:58</td>\n    </tr>\n    <tr>\n      <th>3626641</th>\n      <td>2022-03-08 19:49:57</td>\n      <td>8c5976</td>\n      <td>1166145</td>\n      <td>2022-03-21 15:57:58</td>\n    </tr>\n    <tr>\n      <th>3626643</th>\n      <td>2022-03-08 19:50:18</td>\n      <td>8c5976</td>\n      <td>1166145</td>\n      <td>2022-03-21 15:57:58</td>\n    </tr>\n    <tr>\n      <th>3626645</th>\n      <td>2022-03-08 19:53:09</td>\n      <td>8c5976</td>\n      <td>1166145</td>\n      <td>2022-03-21 15:57:58</td>\n    </tr>\n    <tr>\n      <th>3626649</th>\n      <td>2022-03-21 15:</td>\n      <td>8c5976</td>\n      <td>1166145</td>\n      <td>2022-03-21 15:57:58</td>\n    </tr>\n    <tr>\n      <th>3626647</th>\n      <td>2022-03-21 15:39:49</td>\n      <td>8c5976</td>\n      <td>1166145</td>\n      <td>2022-03-21 15:57:58</td>\n    </tr>\n  </tbody>\n</table>\n</div>"
          },
          "metadata": {}
        }
      ],
      "execution_count": 21
    },
    {
      "cell_type": "code",
      "source": "",
      "metadata": {
        "trusted": true
      },
      "outputs": [],
      "execution_count": null
    },
    {
      "cell_type": "code",
      "source": "df[df['visit_date'] == '2022-03-21 15:']",
      "metadata": {
        "trusted": true
      },
      "outputs": [
        {
          "execution_count": 20,
          "output_type": "execute_result",
          "data": {
            "text/plain": "             visit_date user_id  sale_id            sale_date\n3626648  2022-03-21 15:  8c5976  1120029  2022-03-08 19:53:13\n3626649  2022-03-21 15:  8c5976  1166145  2022-03-21 15:57:58",
            "text/html": "<div>\n<style scoped>\n    .dataframe tbody tr th:only-of-type {\n        vertical-align: middle;\n    }\n\n    .dataframe tbody tr th {\n        vertical-align: top;\n    }\n\n    .dataframe thead th {\n        text-align: right;\n    }\n</style>\n<table border=\"1\" class=\"dataframe\">\n  <thead>\n    <tr style=\"text-align: right;\">\n      <th></th>\n      <th>visit_date</th>\n      <th>user_id</th>\n      <th>sale_id</th>\n      <th>sale_date</th>\n    </tr>\n  </thead>\n  <tbody>\n    <tr>\n      <th>3626648</th>\n      <td>2022-03-21 15:</td>\n      <td>8c5976</td>\n      <td>1120029</td>\n      <td>2022-03-08 19:53:13</td>\n    </tr>\n    <tr>\n      <th>3626649</th>\n      <td>2022-03-21 15:</td>\n      <td>8c5976</td>\n      <td>1166145</td>\n      <td>2022-03-21 15:57:58</td>\n    </tr>\n  </tbody>\n</table>\n</div>"
          },
          "metadata": {}
        }
      ],
      "execution_count": 20
    },
    {
      "cell_type": "code",
      "source": "df\n",
      "metadata": {
        "trusted": true
      },
      "outputs": [
        {
          "execution_count": 15,
          "output_type": "execute_result",
          "data": {
            "text/plain": "                  visit_date user_id  sale_id            sale_date\n0        2022-02-03 23:45:37  f25239  1001036  2022-02-04 13:29:17\n1        2022-02-03 23:45:37  f25239  1043183  2022-02-15 18:17:57\n2        2022-02-03 23:45:37  f25239  1105200  2022-03-04 19:37:53\n3        2022-02-03 23:45:37  f25239  1179179  2022-03-25 13:41:39\n4        2022-02-03 23:51:43  f25239  1001036  2022-02-04 13:29:17\n...                      ...     ...      ...                  ...\n3731944  2022-03-21 15:43:55  41c5a8  1193156  2022-03-28 19:27:34\n3731945  2022-03-21 15:36:23  66695e  1166111  2022-03-21 15:53:31\n3731946  2022-03-21 15:36:48  66695e  1166111  2022-03-21 15:53:31\n3731947  2022-03-21 15:40:18  c55be8  1166132  2022-03-21 15:56:22\n3731948  2022-03-21 15:42:40  c55be8  1166132  2022-03-21 15:56:22\n\n[3731949 rows x 4 columns]",
            "text/html": "<div>\n<style scoped>\n    .dataframe tbody tr th:only-of-type {\n        vertical-align: middle;\n    }\n\n    .dataframe tbody tr th {\n        vertical-align: top;\n    }\n\n    .dataframe thead th {\n        text-align: right;\n    }\n</style>\n<table border=\"1\" class=\"dataframe\">\n  <thead>\n    <tr style=\"text-align: right;\">\n      <th></th>\n      <th>visit_date</th>\n      <th>user_id</th>\n      <th>sale_id</th>\n      <th>sale_date</th>\n    </tr>\n  </thead>\n  <tbody>\n    <tr>\n      <th>0</th>\n      <td>2022-02-03 23:45:37</td>\n      <td>f25239</td>\n      <td>1001036</td>\n      <td>2022-02-04 13:29:17</td>\n    </tr>\n    <tr>\n      <th>1</th>\n      <td>2022-02-03 23:45:37</td>\n      <td>f25239</td>\n      <td>1043183</td>\n      <td>2022-02-15 18:17:57</td>\n    </tr>\n    <tr>\n      <th>2</th>\n      <td>2022-02-03 23:45:37</td>\n      <td>f25239</td>\n      <td>1105200</td>\n      <td>2022-03-04 19:37:53</td>\n    </tr>\n    <tr>\n      <th>3</th>\n      <td>2022-02-03 23:45:37</td>\n      <td>f25239</td>\n      <td>1179179</td>\n      <td>2022-03-25 13:41:39</td>\n    </tr>\n    <tr>\n      <th>4</th>\n      <td>2022-02-03 23:51:43</td>\n      <td>f25239</td>\n      <td>1001036</td>\n      <td>2022-02-04 13:29:17</td>\n    </tr>\n    <tr>\n      <th>...</th>\n      <td>...</td>\n      <td>...</td>\n      <td>...</td>\n      <td>...</td>\n    </tr>\n    <tr>\n      <th>3731944</th>\n      <td>2022-03-21 15:43:55</td>\n      <td>41c5a8</td>\n      <td>1193156</td>\n      <td>2022-03-28 19:27:34</td>\n    </tr>\n    <tr>\n      <th>3731945</th>\n      <td>2022-03-21 15:36:23</td>\n      <td>66695e</td>\n      <td>1166111</td>\n      <td>2022-03-21 15:53:31</td>\n    </tr>\n    <tr>\n      <th>3731946</th>\n      <td>2022-03-21 15:36:48</td>\n      <td>66695e</td>\n      <td>1166111</td>\n      <td>2022-03-21 15:53:31</td>\n    </tr>\n    <tr>\n      <th>3731947</th>\n      <td>2022-03-21 15:40:18</td>\n      <td>c55be8</td>\n      <td>1166132</td>\n      <td>2022-03-21 15:56:22</td>\n    </tr>\n    <tr>\n      <th>3731948</th>\n      <td>2022-03-21 15:42:40</td>\n      <td>c55be8</td>\n      <td>1166132</td>\n      <td>2022-03-21 15:56:22</td>\n    </tr>\n  </tbody>\n</table>\n<p>3731949 rows × 4 columns</p>\n</div>"
          },
          "metadata": {}
        }
      ],
      "execution_count": 15
    },
    {
      "cell_type": "code",
      "source": "df['visit_date'] = df['visit_date'].astype('datetime64')\ndf['sale_date'] = df['sale_date'].astype('datetime64')\n",
      "metadata": {
        "trusted": true,
        "scrolled": true
      },
      "outputs": [],
      "execution_count": null
    },
    {
      "cell_type": "code",
      "source": "df",
      "metadata": {
        "trusted": true
      },
      "outputs": [
        {
          "execution_count": 17,
          "output_type": "execute_result",
          "data": {
            "text/plain": "                  visit_date user_id  sale_id            sale_date\n0        2022-02-03 23:45:37  f25239  1001036  2022-02-04 13:29:17\n1        2022-02-03 23:45:37  f25239  1043183  2022-02-15 18:17:57\n2        2022-02-03 23:45:37  f25239  1105200  2022-03-04 19:37:53\n3        2022-02-03 23:45:37  f25239  1179179  2022-03-25 13:41:39\n4        2022-02-03 23:51:43  f25239  1001036  2022-02-04 13:29:17\n...                      ...     ...      ...                  ...\n3731944  2022-03-21 15:43:55  41c5a8  1193156  2022-03-28 19:27:34\n3731945  2022-03-21 15:36:23  66695e  1166111  2022-03-21 15:53:31\n3731946  2022-03-21 15:36:48  66695e  1166111  2022-03-21 15:53:31\n3731947  2022-03-21 15:40:18  c55be8  1166132  2022-03-21 15:56:22\n3731948  2022-03-21 15:42:40  c55be8  1166132  2022-03-21 15:56:22\n\n[3731949 rows x 4 columns]",
            "text/html": "<div>\n<style scoped>\n    .dataframe tbody tr th:only-of-type {\n        vertical-align: middle;\n    }\n\n    .dataframe tbody tr th {\n        vertical-align: top;\n    }\n\n    .dataframe thead th {\n        text-align: right;\n    }\n</style>\n<table border=\"1\" class=\"dataframe\">\n  <thead>\n    <tr style=\"text-align: right;\">\n      <th></th>\n      <th>visit_date</th>\n      <th>user_id</th>\n      <th>sale_id</th>\n      <th>sale_date</th>\n    </tr>\n  </thead>\n  <tbody>\n    <tr>\n      <th>0</th>\n      <td>2022-02-03 23:45:37</td>\n      <td>f25239</td>\n      <td>1001036</td>\n      <td>2022-02-04 13:29:17</td>\n    </tr>\n    <tr>\n      <th>1</th>\n      <td>2022-02-03 23:45:37</td>\n      <td>f25239</td>\n      <td>1043183</td>\n      <td>2022-02-15 18:17:57</td>\n    </tr>\n    <tr>\n      <th>2</th>\n      <td>2022-02-03 23:45:37</td>\n      <td>f25239</td>\n      <td>1105200</td>\n      <td>2022-03-04 19:37:53</td>\n    </tr>\n    <tr>\n      <th>3</th>\n      <td>2022-02-03 23:45:37</td>\n      <td>f25239</td>\n      <td>1179179</td>\n      <td>2022-03-25 13:41:39</td>\n    </tr>\n    <tr>\n      <th>4</th>\n      <td>2022-02-03 23:51:43</td>\n      <td>f25239</td>\n      <td>1001036</td>\n      <td>2022-02-04 13:29:17</td>\n    </tr>\n    <tr>\n      <th>...</th>\n      <td>...</td>\n      <td>...</td>\n      <td>...</td>\n      <td>...</td>\n    </tr>\n    <tr>\n      <th>3731944</th>\n      <td>2022-03-21 15:43:55</td>\n      <td>41c5a8</td>\n      <td>1193156</td>\n      <td>2022-03-28 19:27:34</td>\n    </tr>\n    <tr>\n      <th>3731945</th>\n      <td>2022-03-21 15:36:23</td>\n      <td>66695e</td>\n      <td>1166111</td>\n      <td>2022-03-21 15:53:31</td>\n    </tr>\n    <tr>\n      <th>3731946</th>\n      <td>2022-03-21 15:36:48</td>\n      <td>66695e</td>\n      <td>1166111</td>\n      <td>2022-03-21 15:53:31</td>\n    </tr>\n    <tr>\n      <th>3731947</th>\n      <td>2022-03-21 15:40:18</td>\n      <td>c55be8</td>\n      <td>1166132</td>\n      <td>2022-03-21 15:56:22</td>\n    </tr>\n    <tr>\n      <th>3731948</th>\n      <td>2022-03-21 15:42:40</td>\n      <td>c55be8</td>\n      <td>1166132</td>\n      <td>2022-03-21 15:56:22</td>\n    </tr>\n  </tbody>\n</table>\n<p>3731949 rows × 4 columns</p>\n</div>"
          },
          "metadata": {}
        }
      ],
      "execution_count": 17
    },
    {
      "cell_type": "code",
      "source": "df['check'] = df['time_diff'].apply(lambda x: 1 if x <= 2 else 0)",
      "metadata": {
        "trusted": true
      },
      "outputs": [],
      "execution_count": 149
    },
    {
      "cell_type": "code",
      "source": "df_clean = df[df['check'] == 1]",
      "metadata": {
        "trusted": true
      },
      "outputs": [],
      "execution_count": 150
    },
    {
      "cell_type": "code",
      "source": "new_df = df_clean.groupby(['sale_id'])['time_diff'].max().reset_index()",
      "metadata": {
        "trusted": true
      },
      "outputs": [],
      "execution_count": 151
    },
    {
      "cell_type": "code",
      "source": "df_clean_group",
      "metadata": {
        "trusted": true
      },
      "outputs": [
        {
          "execution_count": 152,
          "output_type": "execute_result",
          "data": {
            "text/plain": "        sale_id           visit_date user_id            sale_date  time_diff  \\\n0       1000001  2022-03-20 18:15:37  1c1543  2022-02-04 10:00:24   0.172778   \n1       1000002  2022-03-20 10:44:38  a9a6e8  2022-02-04 10:02:28   0.286667   \n2       1000003  2022-03-13 16:15:09  23420a  2022-02-04 10:02:35   0.211667   \n3       1000004  2022-03-16 20:12:28  3e8ed5  2022-02-04 10:03:06   0.325833   \n4       1000005  2022-03-13 18:43:53  cbc468  2022-02-04 10:03:23   0.256111   \n...         ...                  ...     ...                  ...        ...   \n166161  1166171  2022-03-21 15:42:59  0dfac2  2022-03-21 16:02:36   0.326944   \n166162  1166172  2022-03-21 15:43:35  a2151f  2022-03-21 16:02:44   0.329722   \n166163  1166174  2022-03-21 15:43:28  bad20d  2022-03-21 16:03:07   0.327500   \n166164  1166176  2022-03-21 15:43:35  7d9327  2022-03-21 16:03:19   0.328889   \n166165  1166179  2022-03-21 15:44:52  bf7e0c  2022-03-21 16:04:42   0.330556   \n\n        check  \n0           1  \n1           1  \n2           1  \n3           1  \n4           1  \n...       ...  \n166161      1  \n166162      1  \n166163      1  \n166164      1  \n166165      1  \n\n[166166 rows x 6 columns]",
            "text/html": "<div>\n<style scoped>\n    .dataframe tbody tr th:only-of-type {\n        vertical-align: middle;\n    }\n\n    .dataframe tbody tr th {\n        vertical-align: top;\n    }\n\n    .dataframe thead th {\n        text-align: right;\n    }\n</style>\n<table border=\"1\" class=\"dataframe\">\n  <thead>\n    <tr style=\"text-align: right;\">\n      <th></th>\n      <th>sale_id</th>\n      <th>visit_date</th>\n      <th>user_id</th>\n      <th>sale_date</th>\n      <th>time_diff</th>\n      <th>check</th>\n    </tr>\n  </thead>\n  <tbody>\n    <tr>\n      <th>0</th>\n      <td>1000001</td>\n      <td>2022-03-20 18:15:37</td>\n      <td>1c1543</td>\n      <td>2022-02-04 10:00:24</td>\n      <td>0.172778</td>\n      <td>1</td>\n    </tr>\n    <tr>\n      <th>1</th>\n      <td>1000002</td>\n      <td>2022-03-20 10:44:38</td>\n      <td>a9a6e8</td>\n      <td>2022-02-04 10:02:28</td>\n      <td>0.286667</td>\n      <td>1</td>\n    </tr>\n    <tr>\n      <th>2</th>\n      <td>1000003</td>\n      <td>2022-03-13 16:15:09</td>\n      <td>23420a</td>\n      <td>2022-02-04 10:02:35</td>\n      <td>0.211667</td>\n      <td>1</td>\n    </tr>\n    <tr>\n      <th>3</th>\n      <td>1000004</td>\n      <td>2022-03-16 20:12:28</td>\n      <td>3e8ed5</td>\n      <td>2022-02-04 10:03:06</td>\n      <td>0.325833</td>\n      <td>1</td>\n    </tr>\n    <tr>\n      <th>4</th>\n      <td>1000005</td>\n      <td>2022-03-13 18:43:53</td>\n      <td>cbc468</td>\n      <td>2022-02-04 10:03:23</td>\n      <td>0.256111</td>\n      <td>1</td>\n    </tr>\n    <tr>\n      <th>...</th>\n      <td>...</td>\n      <td>...</td>\n      <td>...</td>\n      <td>...</td>\n      <td>...</td>\n      <td>...</td>\n    </tr>\n    <tr>\n      <th>166161</th>\n      <td>1166171</td>\n      <td>2022-03-21 15:42:59</td>\n      <td>0dfac2</td>\n      <td>2022-03-21 16:02:36</td>\n      <td>0.326944</td>\n      <td>1</td>\n    </tr>\n    <tr>\n      <th>166162</th>\n      <td>1166172</td>\n      <td>2022-03-21 15:43:35</td>\n      <td>a2151f</td>\n      <td>2022-03-21 16:02:44</td>\n      <td>0.329722</td>\n      <td>1</td>\n    </tr>\n    <tr>\n      <th>166163</th>\n      <td>1166174</td>\n      <td>2022-03-21 15:43:28</td>\n      <td>bad20d</td>\n      <td>2022-03-21 16:03:07</td>\n      <td>0.327500</td>\n      <td>1</td>\n    </tr>\n    <tr>\n      <th>166164</th>\n      <td>1166176</td>\n      <td>2022-03-21 15:43:35</td>\n      <td>7d9327</td>\n      <td>2022-03-21 16:03:19</td>\n      <td>0.328889</td>\n      <td>1</td>\n    </tr>\n    <tr>\n      <th>166165</th>\n      <td>1166179</td>\n      <td>2022-03-21 15:44:52</td>\n      <td>bf7e0c</td>\n      <td>2022-03-21 16:04:42</td>\n      <td>0.330556</td>\n      <td>1</td>\n    </tr>\n  </tbody>\n</table>\n<p>166166 rows × 6 columns</p>\n</div>"
          },
          "metadata": {}
        }
      ],
      "execution_count": 152
    },
    {
      "cell_type": "code",
      "source": "int(new_df.time_diff.mean() * 60)",
      "metadata": {
        "trusted": true
      },
      "outputs": [
        {
          "execution_count": 153,
          "output_type": "execute_result",
          "data": {
            "text/plain": "16"
          },
          "metadata": {}
        }
      ],
      "execution_count": 153
    },
    {
      "cell_type": "code",
      "source": "",
      "metadata": {
        "trusted": true
      },
      "outputs": [],
      "execution_count": null
    }
  ]
}