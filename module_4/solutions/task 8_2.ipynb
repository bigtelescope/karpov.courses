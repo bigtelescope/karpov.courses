{
 "cells": [
  {
   "cell_type": "code",
   "execution_count": 1,
   "id": "ba92ad7d",
   "metadata": {},
   "outputs": [],
   "source": [
    "import numpy as np\n",
    "import pandas as pd\n",
    "from scipy import stats\n",
    "from datetime import date"
   ]
  },
  {
   "cell_type": "code",
   "execution_count": 10,
   "id": "0fc18bd4",
   "metadata": {},
   "outputs": [],
   "source": [
    "def create_group_generator(metrics, sample_size, n_iter):\n",
    "    \"\"\"Генератор случайных групп.\n",
    "\n",
    "    :param metrics (pd.DataFame): таблица с метриками, columns=['user_id', 'metric'].\n",
    "    :param sample_size (int): размер групп (количество пользователей в группе).\n",
    "    :param n_iter (int): количество итераций генерирования случайных групп.\n",
    "    :return (np.array, np.array): два массива со значениями метрик в группах.\n",
    "    \"\"\"\n",
    "    user_ids = metrics['user_id'].unique()\n",
    "    for _ in range(n_iter):\n",
    "        a_user_ids, b_user_ids = np.random.choice(user_ids, (2, sample_size), False)\n",
    "        a_metric_values = metrics.loc[metrics['user_id'].isin(a_user_ids), 'metric'].values\n",
    "        b_metric_values = metrics.loc[metrics['user_id'].isin(b_user_ids), 'metric'].values\n",
    "        yield a_metric_values, b_metric_values\n",
    "\n",
    "metrics = pd.DataFrame({'user_id': [1, 2, 3, 4], 'metric': [5, 6, 8, 9.1] })\n",
    "sample_size = 2\n",
    "n_iter = 3\n",
    "group_generator = create_group_generator(metrics, sample_size, n_iter)"
   ]
  },
  {
   "cell_type": "code",
   "execution_count": 35,
   "id": "c39a7fea",
   "metadata": {},
   "outputs": [],
   "source": [
    "from scipy.stats import norm, ttest_ind\n",
    "\n",
    "def estimate_errors(group_generator, effect_add_type, effect, alpha):\n",
    "    \n",
    "    pvalues_aa = []        # список со значениями pvalue\n",
    "    pvalues_ab = []        # список со значениями pvalue\n",
    "    first_type_error = 0   # оценкa вероятности ошибки I рода\n",
    "    second_type_error = 0  # оценкa вероятности ошибки II рода\n",
    "    \n",
    "    \"\"\"\n",
    "        group_generator : генератор значений метрик для двух групп.\n",
    "        effect_add_type : способ добавления эффекта для группы B.\n",
    "        effect          : размер эффекта в процентах.\n",
    "        alpha           : уровень значимости\n",
    "    \"\"\"\n",
    "    \n",
    "    for control_values, test_values in group_generator:\n",
    "        \n",
    "        _, local_aa_pvalue = ttest_ind(test_values, control_values)\n",
    "        pvalues_aa.append(round(local_aa_pvalue, 3))\n",
    "        if local_aa_pvalue <= alpha:\n",
    "            first_type_error += 1\n",
    "        \n",
    "        if effect_add_type == 'all_const':\n",
    "            test_values += (test_values.mean() * effect / 100)\n",
    "        elif effect_add_type == 'all_percent':\n",
    "            test_values *= (1 + effect / 100)\n",
    "                \n",
    "        _, local_ab_pvalue = ttest_ind(test_values, control_values)\n",
    "        pvalues_ab.append(round(local_ab_pvalue, 3))\n",
    "        if local_ab_pvalue <= alpha:\n",
    "            second_type_error += 1\n",
    "            \n",
    "    first_type_error /= len(pvalues_aa)\n",
    "    first_type_error = 1 - first_type_error\n",
    "        \n",
    "    second_type_error /= len(pvalues_ab)\n",
    "    second_type_error = 1 - second_type_error\n",
    "        \n",
    "    return pvalues_aa, pvalues_ab, first_type_error, second_type_error"
   ]
  },
  {
   "cell_type": "code",
   "execution_count": 33,
   "id": "52dcef5d",
   "metadata": {},
   "outputs": [
    {
     "name": "stdout",
     "output_type": "stream",
     "text": [
      "[1.0, 0.808, 0.626, 0.466, 0.331, 0.224, 0.145, 0.09, 0.053, 0.029]\n",
      "[0.47, 0.327, 0.216, 0.135, 0.08, 0.045, 0.024, 0.012, 0.006, 0.003]\n",
      "0\n",
      "0.5\n"
     ]
    }
   ],
   "source": [
    "sample_size, n_iter, effect, alpha = 100, 10, 6, 0.05\n",
    "\n",
    "group_generator = (\n",
    "    (np.arange(sample_size, dtype=float), np.arange(sample_size, dtype=float) + x,)\n",
    "    for x in range(n_iter)\n",
    ")\n",
    "effect_add_type = 'all_const'\n",
    "pvalues_aa, pvalues_ab, first_type_error, second_type_error = estimate_errors(\n",
    "    group_generator, effect_add_type, effect, alpha\n",
    ")\n",
    "# pvalues_aa = [1.0, 0.808, 0.626, 0.466, 0.331, 0.224, 0.145, 0.09, 0.053, 0.029]\n",
    "# pvalues_ab = [0.47, 0.327, 0.216, 0.135, 0.08, 0.045, 0.024, 0.012, 0.006, 0.003]\n",
    "# first_type_error = 0.1\n",
    "# second_type_error = 0.5\n",
    "\n",
    "print(pvalues_aa)\n",
    "print(pvalues_ab)\n",
    "print(first_type_error)\n",
    "print(second_type_error)"
   ]
  },
  {
   "cell_type": "code",
   "execution_count": 34,
   "id": "0d58e4dd",
   "metadata": {},
   "outputs": [
    {
     "name": "stdout",
     "output_type": "stream",
     "text": [
      "[1.0, 0.808, 0.626, 0.466, 0.331, 0.224, 0.145, 0.09, 0.053, 0.029]\n",
      "[0.483, 0.342, 0.23, 0.147, 0.09, 0.052, 0.028, 0.015, 0.007, 0.003]\n",
      "0\n",
      "0.6\n"
     ]
    }
   ],
   "source": [
    "sample_size, n_iter, effect, alpha = 100, 10, 6, 0.05\n",
    "\n",
    "group_generator = (\n",
    "    (np.arange(sample_size, dtype=float), np.arange(sample_size, dtype=float) + x,)\n",
    "    for x in range(n_iter)\n",
    ")\n",
    "effect_add_type = 'all_percent'\n",
    "pvalues_aa, pvalues_ab, first_type_error, second_type_error = estimate_errors(\n",
    "    group_generator, effect_add_type, effect, alpha\n",
    ")\n",
    "# pvalues_aa = [1.0, 0.808, 0.626, 0.466, 0.331, 0.224, 0.145, 0.09, 0.053, 0.029]\n",
    "# pvalues_ab = [0.483, 0.342, 0.23, 0.147, 0.09, 0.052, 0.028, 0.015, 0.007, 0.003]\n",
    "# first_type_error = 0.1\n",
    "# second_type_error = 0.6\n",
    "\n",
    "print(pvalues_aa)\n",
    "print(pvalues_ab)\n",
    "print(first_type_error)\n",
    "print(second_type_error)"
   ]
  },
  {
   "cell_type": "code",
   "execution_count": null,
   "id": "9d83a76f",
   "metadata": {},
   "outputs": [],
   "source": []
  }
 ],
 "metadata": {
  "kernelspec": {
   "display_name": "Python 3 (ipykernel)",
   "language": "python",
   "name": "python3"
  },
  "language_info": {
   "codemirror_mode": {
    "name": "ipython",
    "version": 3
   },
   "file_extension": ".py",
   "mimetype": "text/x-python",
   "name": "python",
   "nbconvert_exporter": "python",
   "pygments_lexer": "ipython3",
   "version": "3.9.6"
  }
 },
 "nbformat": 4,
 "nbformat_minor": 5
}
