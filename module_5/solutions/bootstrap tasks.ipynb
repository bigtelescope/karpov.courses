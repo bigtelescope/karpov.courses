{
 "cells": [
  {
   "cell_type": "code",
   "execution_count": 34,
   "id": "c9440d41",
   "metadata": {},
   "outputs": [],
   "source": [
    "import pandas as pd\n",
    "import numpy as np\n",
    "from datetime import datetime\n",
    "from scipy import stats"
   ]
  },
  {
   "cell_type": "markdown",
   "id": "cb8aca45",
   "metadata": {},
   "source": [
    "## Задача про статзначимость изменений разных квантилей"
   ]
  },
  {
   "cell_type": "code",
   "execution_count": 47,
   "id": "fc581937",
   "metadata": {},
   "outputs": [],
   "source": [
    "# изменился ли статзначимо X-й квантиль?\n",
    "\n",
    "# 1. вычисляем выборочную разность квантилей\n",
    "# 2. считаем стандартное отклонение разности выборочных средних: \n",
    "#     - генерим много выборок из теста и контроля\n",
    "#     - сохраняем их в список - это эмпирическое распределение\n",
    "#     - потом считаем сигму\n",
    "# 3. считаем половину смещения\n",
    "# 4. считаем левый и правый интервал\n",
    "# 5. проверяем, совпадают ли знаки выборочной разности и правого / левого интервала\n",
    "    "
   ]
  },
  {
   "cell_type": "code",
   "execution_count": 26,
   "id": "1f9757f3",
   "metadata": {},
   "outputs": [],
   "source": [
    "logs = pd.read_csv('2022-04-13T12_df_web_logs.csv')\n",
    "users = pd.read_csv('experiment_users.csv')\n",
    "\n",
    "logs = logs.merge(users, how='inner', on='user_id')\n",
    "logs = logs[\n",
    "    (pd.to_datetime(logs['date']) >= datetime(2022, 4, 5))\n",
    "        &\n",
    "    (pd.to_datetime(logs['date']) < datetime(2022, 4, 12))\n",
    "]\n"
   ]
  },
  {
   "cell_type": "code",
   "execution_count": 27,
   "id": "25a476b3",
   "metadata": {},
   "outputs": [],
   "source": [
    "test_logs = logs[logs['pilot'] == 1].copy()['load_time']\n",
    "control_logs = logs[logs['pilot'] == 0].copy()['load_time']\n"
   ]
  },
  {
   "cell_type": "code",
   "execution_count": 43,
   "id": "b01fbb85",
   "metadata": {},
   "outputs": [],
   "source": [
    "alpha = 0.05\n",
    "quantiles = [\n",
    "    0.7, 0.74, 0.78, 0.82, 0.86, 0.90, 0.95, 0.99, 0.999, 0.9999\n",
    "]"
   ]
  },
  {
   "cell_type": "code",
   "execution_count": 46,
   "id": "9d692ad4",
   "metadata": {},
   "outputs": [
    {
     "name": "stdout",
     "output_type": "stream",
     "text": [
      "quantile_size =  0.7 : yes\n",
      "quantile_size =  0.74 : yes\n",
      "quantile_size =  0.78 : no\n",
      "quantile_size =  0.82 : yes\n",
      "quantile_size =  0.86 : yes\n",
      "quantile_size =  0.9 : yes\n",
      "quantile_size =  0.95 : yes\n",
      "quantile_size =  0.99 : yes\n",
      "quantile_size =  0.999 : no\n",
      "quantile_size =  0.9999 : no\n"
     ]
    }
   ],
   "source": [
    "for quantile_size in quantiles:\n",
    "    bootstrap_calcs = []\n",
    "    quantiles_delta = np.quantile(control_logs, quantile_size) - np.quantile(test_logs, quantile_size)\n",
    "    \n",
    "    for iter in range(5000):\n",
    "        test_sample = np.random.choice(test_logs, size=len(test_logs), replace=True)\n",
    "        ctrl_sample = np.random.choice(control_logs, size=len(control_logs), replace=True)\n",
    "        bootstrap_calcs.append(np.quantile(ctrl_sample, quantile_size) - np.quantile(test_sample, quantile_size))\n",
    "    \n",
    "    bootstrap_sigma = np.std(bootstrap_calcs)\n",
    "    sigma_shift = stats.norm.ppf(1 - alpha / 2)\n",
    "    left_boarder = quantiles_delta - sigma_shift * bootstrap_sigma\n",
    "    right_boarder = quantiles_delta + sigma_shift * bootstrap_sigma\n",
    "#     print('quantile_size = ', quantile_size, ': ', left_boarder, quantiles_delta, right_boarder)\n",
    "    if np.sign(left_boarder) == np.sign(quantiles_delta) and np.sign(right_boarder) == np.sign(quantiles_delta):\n",
    "        print('quantile_size = ', quantile_size, ': yes')\n",
    "    else:\n",
    "        print('quantile_size = ', quantile_size, ': no')"
   ]
  },
  {
   "cell_type": "markdown",
   "id": "e3bbcef6",
   "metadata": {},
   "source": [
    "## Задача про оценку эффекта бутстрапом"
   ]
  },
  {
   "cell_type": "code",
   "execution_count": 48,
   "id": "5b2e5250",
   "metadata": {},
   "outputs": [
    {
     "name": "stdout",
     "output_type": "stream",
     "text": [
      "[3. 6. 5. 3. 3. 4. 3. 4. 3. 3.]\n",
      "4.0\n"
     ]
    }
   ],
   "source": [
    "def generate_bootstrap_metrics(data_one, data_two, bootstrap_iter, bootstrap_agg_func):\n",
    "    \"\"\"Генерирует значения метрики, полученные с помощью бутстрепа.\n",
    "\n",
    "    : data_one = значения метрик в контрольной группе.\n",
    "    : data_two = значения метрик в тестовой группе.\n",
    "    : design (Design)          = объект с данными, описывающий параметры эксперимента\n",
    "    : bootstrap_iter (int)     = количество итераций бутстрепа.\n",
    "    : bootstrap_agg_func (str) = метрика эксперимента. Возможные значения ['mean', 'quantile 95'].\n",
    "    \n",
    "    :return \n",
    "        bootstrap_metrics (np.array) - множество значений статистики теста, посчитанные на бутстрепных выборках.\n",
    "        pe_metric (float)            - значение статистики теста посчитанное по исходным данным.\n",
    "    \"\"\"\n",
    "    \n",
    "    bootstrap_data_one = np.random.choice(data_one, (len(data_one), bootstrap_iter))\n",
    "    bootstrap_data_two = np.random.choice(data_two, (len(data_two), bootstrap_iter))\n",
    "    if bootstrap_agg_func == 'mean':\n",
    "        bootstrap_metrics = (\n",
    "            bootstrap_data_two.mean(axis=0) - bootstrap_data_one.mean(axis=0)\n",
    "        )\n",
    "        pe_metric = data_two.mean() - data_one.mean()\n",
    "        return bootstrap_metrics, pe_metric\n",
    "    elif bootstrap_agg_func == 'quantile 95':\n",
    "        q = 0.95\n",
    "        bootstrap_metrics = (\n",
    "            np.quantile(bootstrap_data_two, q, axis=0)\n",
    "            - np.quantile(bootstrap_data_one, q, axis=0)\n",
    "        )\n",
    "        pe_metric = np.quantile(data_two, q) - np.quantile(data_one, q)\n",
    "        return bootstrap_metrics, pe_metric\n",
    "    else:\n",
    "        raise ValueError('Неверное значение bootstrap_agg_func')\n",
    "        \n",
    "data_one, data_two = np.array([1, 3]), np.array([5, 7])\n",
    "bootstrap_iter = 10\n",
    "bootstrap_agg_func = 'mean'\n",
    "\n",
    "bootstrap_metrics, pe_metric = generate_bootstrap_metrics(\n",
    "    data_one, data_two, bootstrap_iter, bootstrap_agg_func\n",
    ")\n",
    "\n",
    "print(bootstrap_metrics)\n",
    "print(pe_metric)\n",
    "# bootstrap_metrics = np.array([6., 5., 3., 4., 5., 2., 6., 4., 4., 4.])\n",
    "# pe_metric = 4.0"
   ]
  },
  {
   "cell_type": "code",
   "execution_count": 53,
   "id": "ca33ea5e",
   "metadata": {},
   "outputs": [],
   "source": [
    "import numpy as np\n",
    "from scipy import stats\n",
    "\n",
    "\n",
    "def run_bootstrap(bootstrap_metrics, pe_metric, alpha, bootstrap_ci_type):\n",
    "    \"\"\"Строит доверительный интервал и проверяет значимость отличий с помощью бутстрепа.\n",
    "    \n",
    "    : bootstrap_metrics (np.array) = множество значений статистики теста, посчитанные на бутстрепных выборках.\n",
    "    : param pe_metric (float): значение статистики теста посчитанное по исходным данным.\n",
    "    : param alpha (float): уровень значимости.\n",
    "    : param bootstrap_ci_type (str): способ построения доверительного интервала.\n",
    "        Возможные значения ['normal', 'percentile', 'pivotal'].\n",
    "        \n",
    "    :return ci, pvalue:\n",
    "        ci [float, float] - границы доверительного интервала.\n",
    "        pvalue (float) - 0 если есть статистически значимые отличия, иначе 1. Настоящее\n",
    "        pvalue для произвольного способа построения доверительного интервала с помощью\n",
    "        бутстрепа вычислить не тривиально. Будем использовать краевые значения 0 и 1.\n",
    "    \"\"\"\n",
    "    \n",
    "    ci = []\n",
    "    pvalue = 1\n",
    "     \n",
    "    if bootstrap_ci_type == 'normal':\n",
    "        # строю нормальный доверительный интервал\n",
    "        \n",
    "        # смещение вправо (влево) в сигмах стандартизованного норм. распределения\n",
    "        c = stats.norm.ppf(1 - alpha / 2)\n",
    "        print('c = ', c)\n",
    "\n",
    "        # стандартное отклонение выборки, сгенерированной бутстрапом\n",
    "        se = np.std(bootstrap_metrics)\n",
    "        print('se = ', se)\n",
    "\n",
    "        # pe_metric = типа разность выборочных средних\n",
    "        left, right = pe_metric - c * se, pe_metric + c * se\n",
    "        ci.append(left)\n",
    "        ci.append(right)\n",
    "        \n",
    "        if np.sign(left) == np.sign(pe_metric) and np.sign(right) == np.sign(pe_metric):\n",
    "            pvalue = 0 \n",
    "        else:\n",
    "            pvalue = 1\n",
    "        \n",
    "        \n",
    "    elif bootstrap_ci_type == 'percentile':\n",
    "        # строю перцентильный доверительный интервал\n",
    "        \n",
    "        left, right = np.quantile(bootstrap_metrics, [alpha / 2, 1 - alpha / 2])\n",
    "        ci.append(left)\n",
    "        ci.append(right)\n",
    "        \n",
    "        if np.sign(left) == np.sign(pe_metric) and np.sign(right) == np.sign(pe_metric):\n",
    "            pvalue = 0 \n",
    "        else:\n",
    "            pvalue = 1\n",
    "    \n",
    "    elif bootstrap_ci_type == 'pivotal':\n",
    "        # строю центральный доверительный интервал\n",
    "        \n",
    "        right, left = 2 * pe_metric - np.quantile(bootstrap_metrics, [alpha / 2, 1 - alpha / 2])\n",
    "        ci.append(left)\n",
    "        ci.append(right)\n",
    "        \n",
    "        if np.sign(left) == np.sign(pe_metric) and np.sign(right) == np.sign(pe_metric):\n",
    "            pvalue = 0 \n",
    "        else:\n",
    "            pvalue = 1\n",
    "    \n",
    "    return ci, pvalue"
   ]
  },
  {
   "cell_type": "code",
   "execution_count": 54,
   "id": "53d8e036",
   "metadata": {},
   "outputs": [
    {
     "name": "stdout",
     "output_type": "stream",
     "text": [
      "c =  1.959963984540054\n",
      "se =  288.6749902572095\n",
      "normal\n",
      "ci = [  34. 1166.], pvalue = 0\n",
      "percentile\n",
      "ci = [-65. 884.], pvalue = 1\n",
      "pivotal\n",
      "ci = [ 316. 1265.], pvalue = 0\n"
     ]
    }
   ],
   "source": [
    "bootstrap_metrics = np.arange(-90, 910)\n",
    "pe_metric = 600.\n",
    "alpha = 0.05\n",
    "bootstrap_ci_types = ['normal', 'percentile', 'pivotal']\n",
    "\n",
    "for bootstrap_ci_type in bootstrap_ci_types:\n",
    "    ci, pvalue = run_bootstrap(bootstrap_metrics, pe_metric, alpha, bootstrap_ci_type)\n",
    "    print(bootstrap_ci_type)\n",
    "    print(f'ci = {np.array(ci).round()}, pvalue = {pvalue}')\n",
    "    \n",
    "# >>> normal: ci = [  34. 1166.], pvalue = 0.0\n",
    "# >>> percentile: ci = [-65. 884.], pvalue = 1.0\n",
    "# >>> pivotal: ci = [ 316. 1265.], pvalue = 0.0"
   ]
  },
  {
   "cell_type": "code",
   "execution_count": null,
   "id": "cc5ee144",
   "metadata": {},
   "outputs": [],
   "source": []
  },
  {
   "cell_type": "code",
   "execution_count": null,
   "id": "516b102c",
   "metadata": {},
   "outputs": [],
   "source": []
  },
  {
   "cell_type": "code",
   "execution_count": null,
   "id": "44730e85",
   "metadata": {},
   "outputs": [],
   "source": []
  }
 ],
 "metadata": {
  "kernelspec": {
   "display_name": "Python 3 (ipykernel)",
   "language": "python",
   "name": "python3"
  },
  "language_info": {
   "codemirror_mode": {
    "name": "ipython",
    "version": 3
   },
   "file_extension": ".py",
   "mimetype": "text/x-python",
   "name": "python",
   "nbconvert_exporter": "python",
   "pygments_lexer": "ipython3",
   "version": "3.9.6"
  }
 },
 "nbformat": 4,
 "nbformat_minor": 5
}
