{
 "cells": [
  {
   "cell_type": "markdown",
   "id": "c5c02996",
   "metadata": {},
   "source": [
    "## Задача 1. Функция распределения экспериментов по бакетам"
   ]
  },
  {
   "cell_type": "markdown",
   "id": "4e2e1fbc",
   "metadata": {},
   "source": [
    "Реализуйте функцию add_experiment, отвечающую за распределение экспериментов по бакетам"
   ]
  },
  {
   "cell_type": "code",
   "execution_count": 18,
   "id": "36c7638b",
   "metadata": {},
   "outputs": [],
   "source": [
    "import pandas as pd\n",
    "import numpy as np\n"
   ]
  },
  {
   "cell_type": "code",
   "execution_count": 15,
   "id": "65d91c01",
   "metadata": {},
   "outputs": [],
   "source": [
    "def add_experiment(experiment, buckets):\n",
    "    \"\"\"Проверяет можно ли добавить эксперимент, добавляет если можно.\n",
    "\n",
    "    Распределять эксперименты нужно так, чтобы умещалось как можно больше экспериментов.\n",
    "\n",
    "    :param experiment (dict): параметры эксперимента, который нужно запустить.\n",
    "        Ключи словаря:\n",
    "            - id - идентификатор эксперимента.\n",
    "            - buckets_count - необходимое количество бакетов.\n",
    "            - conflicts - список идентификаторов экспериментов, которые нельзя проводить\n",
    "                одновременно на одних и тех же пользователях.\n",
    "    :param buckets (list[list[int]]): список бакетов, в каждом бакете перечислены\n",
    "            идентификаторы экспериментов, которые в нём проводятся.\n",
    "\n",
    "    :return (success, buckets):\n",
    "        success (boolean) - можно ли добавить эксперимент, True - можно, иначе - False\n",
    "        buckets (list[list[int]]) - обновлённый список бакетов с добавленным экспериментом,\n",
    "            если эксперимент добавить можно.\n",
    "    \"\"\"\n",
    "    \n",
    "    if experiment['buckets_count'] > len(buckets):\n",
    "        return False, buckets\n",
    "    \n",
    "    else:\n",
    "        # список номеров доступных бакетов (где не лежат конфликты)\n",
    "        available_buckets_list = []\n",
    "        \n",
    "        # подсчет кол-ва доступных бакетов\n",
    "        for i in range(len(buckets)):\n",
    "            if len(list(set(buckets[i]) & set(experiment['conflicts']))) == 0:\n",
    "                available_buckets_list.append(i)\n",
    "        \n",
    "        # если доступных бакетов меньше, чем требуется для теста, возвращаем false\n",
    "        if len(available_buckets_list) < experiment['buckets_count']:\n",
    "            return False, buckets\n",
    "        \n",
    "        # если доступных бакетов достаточно, пробуем распихать их по доступным бакетам\n",
    "        buckets_count = experiment['buckets_count']\n",
    "        for i in available_buckets_list:\n",
    "            if buckets_count <= 0:\n",
    "                break\n",
    "            buckets[i].append(experiment['id'])\n",
    "            buckets_count -= 1\n",
    "                    \n",
    "        \n",
    "    return True, buckets\n",
    "            \n",
    "    \n",
    "    "
   ]
  },
  {
   "cell_type": "code",
   "execution_count": 17,
   "id": "c582cbf8",
   "metadata": {},
   "outputs": [
    {
     "name": "stdout",
     "output_type": "stream",
     "text": [
      "False [[], [], [], []]\n",
      "True [[1], [1], [1], [1]]\n",
      "True [[1, 2], [1, 2], [1], [1]]\n",
      "True [[1, 2], [1, 2], [1, 3], [1, 3]]\n",
      "False [[1, 2], [1, 2], [1, 3], [1, 3]]\n"
     ]
    }
   ],
   "source": [
    "total_buckets_count = 4\n",
    "buckets = [[] for _ in range(total_buckets_count)]\n",
    "success, buckets = add_experiment({'id': 0, 'buckets_count': 5, 'conflicts': []}, buckets)\n",
    "print(success, buckets)\n",
    "# для эксперимента необходимо больше бакетов, чем доступно (5 > 4)\n",
    "# success, buckets = False, [[], [], [], []]\n",
    "\n",
    "success, buckets = add_experiment({'id': 1, 'buckets_count': 4, 'conflicts': [4]}, buckets)\n",
    "print(success, buckets)\n",
    "# success, buckets = True, [[1], [1], [1], [1]]\n",
    "\n",
    "success, buckets = add_experiment({'id': 2, 'buckets_count': 2, 'conflicts': [3]}, buckets)\n",
    "print(success, buckets)\n",
    "# эксперимент с id=2 может быть в любых двух бакетах их четырёх\n",
    "# success, buckets = True, [[1, 2], [1], [1, 2], [1]]\n",
    "\n",
    "success, buckets = add_experiment({'id': 3, 'buckets_count': 2, 'conflicts': [2]}, buckets)\n",
    "print(success, buckets)\n",
    "# можем добавить в бакеты, где не запущен экперимент с id=2\n",
    "# success, buckets = True, [[1, 2], [1, 3], [1, 2], [1, 3]]\n",
    "\n",
    "success, buckets = add_experiment({'id': 4, 'buckets_count': 1, 'conflicts': [1]}, buckets)\n",
    "print(success, buckets)\n",
    "# не можем добавить, так как во всех бакетах запущен эксперимент, с которым конфликт\n",
    "# success, buckets = False, [[1, 2], [1, 3], [1, 2], [1, 3]]"
   ]
  },
  {
   "cell_type": "markdown",
   "id": "eda007ac",
   "metadata": {},
   "source": [
    "## Задача 2. Функция распределения пользователей по бакетам и группам"
   ]
  },
  {
   "cell_type": "markdown",
   "id": "23f2692e",
   "metadata": {},
   "source": [
    "Реализуйте функцию process_user, отвечающую за распределение пользователей по бакетам"
   ]
  },
  {
   "cell_type": "code",
   "execution_count": 20,
   "id": "8c0d15e5",
   "metadata": {},
   "outputs": [],
   "source": [
    "import hashlib\n",
    "\n",
    "\n",
    "def get_hash_modulo(value: str, modulo: int, salt: str):\n",
    "    \"\"\"Вычисляем остаток от деления: (hash(value + salt)) % modulo.\"\"\"\n",
    "    hash_value = int(hashlib.md5(str.encode(value + salt)).hexdigest(), 16)\n",
    "    return hash_value % modulo\n",
    "\n",
    "def process_user(user_id, buckets, experiments, bucket_salt):\n",
    "    \"\"\"Определяет в какие эксперименты попадает пользователь.\n",
    "\n",
    "    Сначала нужно определить бакет пользователя.\n",
    "    Затем для каждого эксперимента в этом бакете выбрать пилотную или контрольную группу.\n",
    "\n",
    "    :user_id (str): идентификатор пользователя\n",
    "    \n",
    "    :buckets (list[list[int]]): список бакетов c id-шками тестов внутри\n",
    "    \n",
    "    :experiments (list[dict]): список словарей {id = идентификатор эксперимента, salt = соль для сплита внутри теста}\n",
    "    \n",
    "    :bucket_salt (str): соль для разбиения пользователей по бакетам.\n",
    "    \n",
    "    :return bucket_id, experiment_groups:\n",
    "        - bucket_id (int) - номер бакета (индекс элемента в buckets)\n",
    "        - experiment_groups (list[tuple]) - список пар: id эксперимента, группа.\n",
    "            Группы: 'A', 'B'.\n",
    "        Пример: (8, [(194, 'A'), (73, 'B')])\n",
    "    \"\"\"\n",
    "    \n",
    "    modulo = len(buckets)\n",
    "    bucket_id = get_hash_modulo(user_id, modulo, bucket_salt)\n",
    "    \n",
    "    exps = buckets[bucket_id] # эксперименты, в которые попал пользователь\n",
    "    exps_dict = [] # список, в который кладется связка \"id экспа + группа экспа\"\n",
    "\n",
    "    # словарь перевода хэша в название группы\n",
    "    groups_dict = {\n",
    "        0: 'B',\n",
    "        1: 'A'\n",
    "    }\n",
    "    \n",
    "    # \n",
    "    for id_ in exps:\n",
    "        id_test_salt = ''\n",
    "        for item in experiments:\n",
    "            if item['id'] == id_:\n",
    "                id_test_salt = item['salt']\n",
    "                break\n",
    "        \n",
    "        group = groups_dict[get_hash_modulo(user_id, 2, id_test_salt)]\n",
    "        exps_dict.append((id_, group))\n",
    "        \n",
    "    return bucket_id, exps_dict\n",
    "    "
   ]
  },
  {
   "cell_type": "code",
   "execution_count": 26,
   "id": "3b25d970",
   "metadata": {},
   "outputs": [
    {
     "name": "stdout",
     "output_type": "stream",
     "text": [
      "0 [(0, 'B'), (1, 'B')]\n"
     ]
    }
   ],
   "source": [
    "user_id = '1001'\n",
    "experiments = [{'id': 0, 'salt': '0'}, {'id': 1, 'salt': '1'}]\n",
    "buckets = [[0, 1], [1], []]\n",
    "bucket_salt = 'a2N4'\n",
    "bucket_id, experiment_groups = process_user(user_id, buckets, experiments, bucket_salt)\n",
    "\n",
    "print(bucket_id, experiment_groups)\n",
    "\n",
    "# В зависимости от значений bucket_salt и солей экспериментов, можно получить один из вариантов:\n",
    "\n",
    "# bucket_id, experiment_groups = 0, [(0, 'A'), (1, 'A')]\n",
    "# bucket_id, experiment_groups = 0, [(0, 'A'), (1, 'B')]\n",
    "# bucket_id, experiment_groups = 0, [(0, 'B'), (1, 'A')]\n",
    "# bucket_id, experiment_groups = 0, [(0, 'B'), (1, 'B')]\n",
    "# bucket_id, experiment_groups = 1, [(1, 'A')]\n",
    "# bucket_id, experiment_groups = 1, [(1, 'B')]\n",
    "# bucket_id, experiment_groups = 2, []"
   ]
  },
  {
   "cell_type": "code",
   "execution_count": null,
   "id": "483a7f6b",
   "metadata": {},
   "outputs": [],
   "source": []
  }
 ],
 "metadata": {
  "kernelspec": {
   "display_name": "Python 3 (ipykernel)",
   "language": "python",
   "name": "python3"
  },
  "language_info": {
   "codemirror_mode": {
    "name": "ipython",
    "version": 3
   },
   "file_extension": ".py",
   "mimetype": "text/x-python",
   "name": "python",
   "nbconvert_exporter": "python",
   "pygments_lexer": "ipython3",
   "version": "3.9.6"
  }
 },
 "nbformat": 4,
 "nbformat_minor": 5
}
