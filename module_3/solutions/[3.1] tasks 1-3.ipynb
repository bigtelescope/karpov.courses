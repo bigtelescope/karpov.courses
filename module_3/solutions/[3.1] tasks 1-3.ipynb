{
 "cells": [
  {
   "cell_type": "code",
   "execution_count": 20,
   "id": "d1cc8460",
   "metadata": {},
   "outputs": [],
   "source": [
    "import pandas as pd\n",
    "from datetime import datetime\n",
    "from scipy.stats import norm\n",
    "from math import sqrt\n",
    "import numpy as np\n"
   ]
  },
  {
   "cell_type": "markdown",
   "id": "c924dd30",
   "metadata": {},
   "source": [
    "# задание 1\n",
    "\n",
    "### найти мин размер группы"
   ]
  },
  {
   "cell_type": "code",
   "execution_count": 5,
   "id": "4aae2ccd",
   "metadata": {},
   "outputs": [],
   "source": [
    "data = pd.read_csv('2022-04-01T12_df_sales.csv')\n",
    "data['date'] = data.apply(lambda x: pd.to_datetime(x['date']), axis=1)\n",
    "data_slice = data[(data['date'] >= datetime(2022, 2, 21)) & (data['date'] < datetime(2022, 2, 28))].copy(deep=True)\n"
   ]
  },
  {
   "cell_type": "code",
   "execution_count": 6,
   "id": "2db46a64",
   "metadata": {},
   "outputs": [],
   "source": [
    "data_per_user = data_slice[['user_id', 'price']].groupby('user_id').sum('price').reset_index()"
   ]
  },
  {
   "cell_type": "code",
   "execution_count": 7,
   "id": "ff176ff2",
   "metadata": {},
   "outputs": [
    {
     "data": {
      "text/html": [
       "<div>\n",
       "<style scoped>\n",
       "    .dataframe tbody tr th:only-of-type {\n",
       "        vertical-align: middle;\n",
       "    }\n",
       "\n",
       "    .dataframe tbody tr th {\n",
       "        vertical-align: top;\n",
       "    }\n",
       "\n",
       "    .dataframe thead th {\n",
       "        text-align: right;\n",
       "    }\n",
       "</style>\n",
       "<table border=\"1\" class=\"dataframe\">\n",
       "  <thead>\n",
       "    <tr style=\"text-align: right;\">\n",
       "      <th></th>\n",
       "      <th>user_id</th>\n",
       "      <th>price</th>\n",
       "    </tr>\n",
       "  </thead>\n",
       "  <tbody>\n",
       "    <tr>\n",
       "      <th>0</th>\n",
       "      <td>00045f</td>\n",
       "      <td>720</td>\n",
       "    </tr>\n",
       "    <tr>\n",
       "      <th>1</th>\n",
       "      <td>0006bb</td>\n",
       "      <td>1260</td>\n",
       "    </tr>\n",
       "    <tr>\n",
       "      <th>2</th>\n",
       "      <td>000b52</td>\n",
       "      <td>3480</td>\n",
       "    </tr>\n",
       "  </tbody>\n",
       "</table>\n",
       "</div>"
      ],
      "text/plain": [
       "  user_id  price\n",
       "0  00045f    720\n",
       "1  0006bb   1260\n",
       "2  000b52   3480"
      ]
     },
     "execution_count": 7,
     "metadata": {},
     "output_type": "execute_result"
    }
   ],
   "source": [
    "data_per_user.head(3)"
   ]
  },
  {
   "cell_type": "code",
   "execution_count": 13,
   "id": "0b59a659",
   "metadata": {},
   "outputs": [],
   "source": [
    "def calculate_size(df, alpha=0.05, betta=0.1, effect_size=20):\n",
    "    std_dev = df['price'].std()\n",
    "    n_min = ((norm.ppf(1 - betta, loc=0, scale=1) + norm.ppf(1 - alpha/2, loc=0, scale=1))**2)\n",
    "    n_min *= (2 * (std_dev**2))\n",
    "    n_min /= effect_size**2\n",
    "    \n",
    "    return n_min\n",
    "    "
   ]
  },
  {
   "cell_type": "code",
   "execution_count": 14,
   "id": "7ba498c6",
   "metadata": {},
   "outputs": [],
   "source": [
    "n_min = calculate_size(data_per_user)"
   ]
  },
  {
   "cell_type": "code",
   "execution_count": 15,
   "id": "f7508ed8",
   "metadata": {},
   "outputs": [
    {
     "name": "stdout",
     "output_type": "stream",
     "text": [
      "34570.0\n"
     ]
    }
   ],
   "source": [
    "print(n_min // 10 * 10)"
   ]
  },
  {
   "cell_type": "markdown",
   "id": "8ec20c71",
   "metadata": {},
   "source": [
    "# задание 2\n",
    "\n",
    "### найти мин размер эффекта"
   ]
  },
  {
   "cell_type": "code",
   "execution_count": 16,
   "id": "c79ce35c",
   "metadata": {},
   "outputs": [],
   "source": [
    "def calculate_effect(df, alpha=0.05, betta=0.1):\n",
    "    std_dev = df['price'].std()\n",
    "    n_min = ((norm.ppf(1 - betta, loc=0, scale=1) + norm.ppf(1 - alpha/2, loc=0, scale=1))**2)\n",
    "    n_min *= (2 * (std_dev**2))\n",
    "    n_min /= (len(df) / 2)\n",
    "    n_min = sqrt(n_min)\n",
    "    \n",
    "    return n_min\n",
    "    "
   ]
  },
  {
   "cell_type": "code",
   "execution_count": 17,
   "id": "a47428d2",
   "metadata": {},
   "outputs": [
    {
     "name": "stdout",
     "output_type": "stream",
     "text": [
      "33.36719696756425\n"
     ]
    }
   ],
   "source": [
    "min_effect = calculate_effect(data_per_user)\n",
    "print(min_effect)\n"
   ]
  },
  {
   "cell_type": "markdown",
   "id": "572e3818",
   "metadata": {},
   "source": [
    "# задание 3\n",
    "\n",
    "### реализация estimate_sample_size"
   ]
  },
  {
   "cell_type": "code",
   "execution_count": 72,
   "id": "8fc771ec",
   "metadata": {},
   "outputs": [],
   "source": [
    "import pandas as pd\n",
    "from datetime import datetime\n",
    "from scipy.stats import norm\n",
    "from math import sqrt\n",
    "import numpy as np\n",
    "\n",
    "\n",
    "def estimate_sample_size(metrics, effect, alpha, beta):\n",
    "    \"\"\"\n",
    "    Оцениваем необходимый размер выборки для проверки гипотезы о равенстве средних.\n",
    "    \n",
    "    Для метрик, у которых для одного пользователя одно значение просто вычислите\n",
    "    размер групп по формуле.\n",
    "    \n",
    "    Для метрик, у которых для одного пользователя несколько значений (например,\n",
    "    response_time), вычислите необходимый объём данных и разделите его на среднее\n",
    "    количество значений на одного пользователя.\n",
    "    \n",
    "    Пример, если в таблице metrics 1000 наблюдений и 100 уникальных пользователей,\n",
    "    и для эксперимента нужно 302 наблюдения, то размер групп будет 31, тк в среднем на\n",
    "    одного пользователя 10 наблюдений, то получится порядка 310 наблюдений в группе.\n",
    "\n",
    "    :param metrics (pd.DataFrame): таблица со значениями метрик,\n",
    "        содержит столбцы ['user_id', 'metric'].\n",
    "    :param effect (float): размер эффекта в процентах.\n",
    "        Пример, effect=3 означает, что ожидаем увеличение среднего на 3%.\n",
    "    :param alpha (float): уровень значимости.\n",
    "    :param beta (float): допустимая вероятность ошибки II рода.\n",
    "    :return (int): минимально необходимый размер групп (количество пользователей)\n",
    "    \"\"\"\n",
    "    if len(metrics) == metrics.user_id.nunique():\n",
    "        \n",
    "        std_dev = np.std(metrics['metric'])\n",
    "        lin_effect = metrics['metric'].mean() * effect / 100\n",
    "        \n",
    "        min_sample_size = ((norm.ppf(1 - beta, loc=0, scale=1) + norm.ppf(1 - alpha/2, loc=0, scale=1))**2)\n",
    "        min_sample_size *= (2 * (std_dev**2))\n",
    "        min_sample_size /= (lin_effect**2)\n",
    "        \n",
    "    else:\n",
    "        \n",
    "        std_dev = np.std(metrics['metric'])\n",
    "        lin_effect = metrics['metric'].mean() * effect / 100\n",
    "        \n",
    "        min_sample_size = ((norm.ppf(1 - beta, loc=0, scale=1) + norm.ppf(1 - alpha/2, loc=0, scale=1))**2)\n",
    "        min_sample_size *= (2 * (std_dev**2))\n",
    "        min_sample_size /= (lin_effect**2)\n",
    "        \n",
    "        samples_per_user = len(metrics) / metrics.user_id.nunique()\n",
    "        \n",
    "        min_sample_size /= samples_per_user\n",
    "        \n",
    "        \n",
    "    return min_sample_size\n",
    "    "
   ]
  },
  {
   "cell_type": "code",
   "execution_count": 73,
   "id": "5167dc6f",
   "metadata": {},
   "outputs": [],
   "source": [
    "metrics = pd.DataFrame({\n",
    "    'user_id': np.arange(100),\n",
    "    'metric': np.linspace(500, 1490, 100)\n",
    "})\n",
    "effect, alpha, beta = 3, 0.05, 0.1\n",
    "sample_size = estimate_sample_size(metrics, effect, alpha, beta)\n",
    "# sample_size = 1966\n"
   ]
  },
  {
   "cell_type": "code",
   "execution_count": 75,
   "id": "c37eec9f",
   "metadata": {},
   "outputs": [
    {
     "data": {
      "text/plain": [
       "1965.2276493456436"
      ]
     },
     "execution_count": 75,
     "metadata": {},
     "output_type": "execute_result"
    }
   ],
   "source": [
    "sample_size"
   ]
  },
  {
   "cell_type": "code",
   "execution_count": null,
   "id": "4d067d0f",
   "metadata": {},
   "outputs": [],
   "source": []
  },
  {
   "cell_type": "code",
   "execution_count": 76,
   "id": "8e7fcd78",
   "metadata": {},
   "outputs": [],
   "source": [
    "metrics = pd.DataFrame({\n",
    "    'user_id': np.arange(100) % 30,\n",
    "    'metric': np.linspace(500, 1490, 100)\n",
    "})\n",
    "effect, alpha, beta = 3, 0.05, 0.1\n",
    "sample_size = estimate_sample_size(metrics, effect, alpha, beta)\n",
    "# sample_size = 590"
   ]
  },
  {
   "cell_type": "code",
   "execution_count": 77,
   "id": "215911ba",
   "metadata": {},
   "outputs": [
    {
     "data": {
      "text/plain": [
       "589.5682948036931"
      ]
     },
     "execution_count": 77,
     "metadata": {},
     "output_type": "execute_result"
    }
   ],
   "source": [
    "sample_size"
   ]
  },
  {
   "cell_type": "code",
   "execution_count": null,
   "id": "a44d195d",
   "metadata": {},
   "outputs": [],
   "source": []
  }
 ],
 "metadata": {
  "kernelspec": {
   "display_name": "Python 3 (ipykernel)",
   "language": "python",
   "name": "python3"
  },
  "language_info": {
   "codemirror_mode": {
    "name": "ipython",
    "version": 3
   },
   "file_extension": ".py",
   "mimetype": "text/x-python",
   "name": "python",
   "nbconvert_exporter": "python",
   "pygments_lexer": "ipython3",
   "version": "3.9.6"
  }
 },
 "nbformat": 4,
 "nbformat_minor": 5
}
