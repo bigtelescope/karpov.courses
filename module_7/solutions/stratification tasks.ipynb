{
 "cells": [
  {
   "cell_type": "markdown",
   "id": "34d89f66",
   "metadata": {},
   "source": [
    "## Задача №1\n",
    "\n",
    "Предположим, у нас есть набор признаков, которые вычисляются независимо от эксперимента. Используя эти признаки, нужно разбить объекты на страты так, чтобы дисперсия стратифицированного среднего была минимальна и доля каждой страты была не менее 5% от всех данных.\n",
    "\n",
    "Данные разбиты на 2 части. Первая часть доступна для исследования по ссылке stratification_task_data_public.csv. Решение будет проверяться на второй части данных. Значения в столбцах\n",
    "x1, ..., x10 — признаки, которые можно использовать для вычисления страт. Значения в столбце y — измерения, по которым будет вычисляться целевая метрика эксперимента.\n",
    "\n",
    "Подходы формирования страт можно посмотреть в блокноте \"Стратификация_задача_1.ipynb\""
   ]
  },
  {
   "cell_type": "code",
   "execution_count": 11,
   "id": "19ebb957",
   "metadata": {},
   "outputs": [],
   "source": [
    "import pandas as pd\n",
    "import numpy as np\n",
    "from scipy import stats\n"
   ]
  },
  {
   "cell_type": "code",
   "execution_count": 2,
   "id": "5b42565f",
   "metadata": {},
   "outputs": [],
   "source": [
    "train_strats = pd.read_csv('stratification_task_data_public.csv')\n",
    "train_df = train_strats.copy()\n"
   ]
  },
  {
   "cell_type": "code",
   "execution_count": 3,
   "id": "010982cb",
   "metadata": {},
   "outputs": [],
   "source": [
    "# Вычисляет стратифицированную дисперсию и минимальную долю страт\n",
    "def calc_strat_params(df):\n",
    "    # дисперсия в каждой страте\n",
    "    strat_vars = df.groupby('strat')['y'].var()\n",
    "    \n",
    "    strat_vars_tmp = strat_vars.copy().reset_index()\n",
    "    strat_vars_tmp = strat_vars_tmp.rename({\n",
    "        'y': 'variance'\n",
    "    }, axis=1)\n",
    "    \n",
    "    # вес каждой страты\n",
    "    weights = df['strat'].value_counts(normalize=True)\n",
    "    weights_tmp = weights.copy().reset_index()\n",
    "    weights_tmp = weights_tmp.rename({\n",
    "        'strat': 'weight',\n",
    "        'index': 'strat'\n",
    "    }, axis=1)\n",
    "    \n",
    "    strat_vars_tmp = strat_vars_tmp.merge(weights_tmp, how='inner', on='strat')#[['strat', '']]\n",
    "    print('дисперсия и веса по стратам')\n",
    "    print(strat_vars_tmp, end='\\n\\n')\n",
    "    \n",
    "    # стратифицированная дисперсия \n",
    "    stratified_var = (strat_vars * weights).sum()\n",
    "    \n",
    "    # минимальная доля страты\n",
    "    min_part = df['strat'].value_counts(normalize=True).min()\n",
    "    \n",
    "    return stratified_var, min_part\n",
    "\n",
    "# Выводит стратифицированную дисперсию и минимальную долю страт\n",
    "def print_strat_params(df):\n",
    "    stratified_var, min_part = calc_strat_params(df)\n",
    "    print('stratified_var =', stratified_var, ', min share =', str(round(min_part*100, 2))+'%')"
   ]
  },
  {
   "cell_type": "code",
   "execution_count": 4,
   "id": "509c6ab4",
   "metadata": {},
   "outputs": [
    {
     "name": "stdout",
     "output_type": "stream",
     "text": [
      "дисперсия без стратификации:\n",
      "дисперсия и веса по стратам\n",
      "   strat      variance  weight\n",
      "0      0  66078.094333     1.0\n",
      "\n",
      "stratified_var = 66078.09433343346 , min share = 100.0%\n"
     ]
    }
   ],
   "source": [
    "train_strats['strat'] = 0\n",
    "print('дисперсия без стратификации:')\n",
    "print_strat_params(train_strats)"
   ]
  },
  {
   "cell_type": "code",
   "execution_count": 5,
   "id": "d52d20a8",
   "metadata": {},
   "outputs": [],
   "source": [
    "# формирует страты для входящего датафрейма\n",
    "def build_strats(df):\n",
    "    uniq_strats = list(df.x7.unique())\n",
    "    \n",
    "    group_1 = range(1988, 1998)\n",
    "    for strat_item in group_1:\n",
    "        df.loc[df['x7'] == strat_item, 'strat'] = strat_item\n",
    "        uniq_strats.remove(strat_item)\n",
    "        \n",
    "    group_2 = [1998, 1981]\n",
    "    for strat_item in group_2:\n",
    "        df.loc[df['x7'] == strat_item, 'strat'] = group_2[0]\n",
    "        uniq_strats.remove(strat_item)\n",
    "        \n",
    "    group_3 = [x for x in uniq_strats if ((x <= 1980) or (x >= 2000))]\n",
    "#     print('3 -> ', group_3)\n",
    "    for strat_item in group_3:\n",
    "        df.loc[df['x7'] == strat_item, 'strat'] = group_3[0]\n",
    "        uniq_strats.remove(strat_item)\n",
    "        \n",
    "    group_4 = [x for x in uniq_strats]\n",
    "#     print('4 -> ', group_4)\n",
    "    for strat_item in group_4:\n",
    "        df.loc[df['x7'] == strat_item, 'strat'] = group_4[0]\n",
    "        uniq_strats.remove(strat_item)\n",
    "           \n",
    "    print_strat_params(df)"
   ]
  },
  {
   "cell_type": "code",
   "execution_count": 6,
   "id": "9a459d71",
   "metadata": {
    "scrolled": false
   },
   "outputs": [
    {
     "name": "stdout",
     "output_type": "stream",
     "text": [
      "дисперсия со стратификацией:\n",
      "дисперсия и веса по стратам\n",
      "     strat      variance  weight\n",
      "0   1987.0  50748.436720  0.1623\n",
      "1   1988.0  43550.290310  0.0508\n",
      "2   1989.0  48230.109476  0.0635\n",
      "3   1990.0  47059.210799  0.0679\n",
      "4   1991.0  48991.872146  0.0835\n",
      "5   1992.0  50323.906093  0.0864\n",
      "6   1993.0  47963.510437  0.0847\n",
      "7   1994.0  49602.361371  0.0838\n",
      "8   1995.0  42475.998720  0.0771\n",
      "9   1996.0  48382.584194  0.0672\n",
      "10  1997.0  54927.887730  0.0550\n",
      "11  1998.0  54281.791778  0.0506\n",
      "12  2003.0  61324.289892  0.0672\n",
      "\n",
      "stratified_var = 49779.64634901167 , min share = 5.06%\n"
     ]
    }
   ],
   "source": [
    "print('дисперсия со стратификацией:')\n",
    "build_strats(train_df)"
   ]
  },
  {
   "cell_type": "code",
   "execution_count": 7,
   "id": "99af767b",
   "metadata": {},
   "outputs": [],
   "source": [
    "import pandas as pd\n",
    "import numpy as np\n",
    "\n",
    "\n",
    "def get_strats(df_features):\n",
    "    \"\"\"Возвращает страты объектов.\n",
    "\n",
    "    :param df_features (pd.DataFrame): таблица с признаками x1,...,x10\n",
    "    :return (list | np.array | pd.Series): список страт объектов размера len(df).\n",
    "    \"\"\"\n",
    "    \n",
    "    df_features['strat'] = -1\n",
    "    uniq_strats = list(df_features.x7.unique())\n",
    "    \n",
    "    group_1 = range(1988, 1998)\n",
    "    for strat_item in group_1:\n",
    "        df_features.loc[df_features['x7'] == strat_item, 'strat'] = strat_item\n",
    "        uniq_strats.remove(strat_item)\n",
    "        \n",
    "    group_2 = [1998, 1981]\n",
    "    for strat_item in group_2:\n",
    "        df_features.loc[df_features['x7'] == strat_item, 'strat'] = group_2[0]\n",
    "        uniq_strats.remove(strat_item)\n",
    "        \n",
    "    group_3 = [x for x in uniq_strats if ((x <= 1980) or (x >= 2000))]\n",
    "#     print('3 -> ', group_3)\n",
    "    for strat_item in group_3:\n",
    "        df_features.loc[df_features['x7'] == strat_item, 'strat'] = group_3[0]\n",
    "        uniq_strats.remove(strat_item)\n",
    "        \n",
    "    group_4 = [x for x in uniq_strats]\n",
    "#     print('4 -> ', group_4)\n",
    "    for strat_item in group_4:\n",
    "        df_features.loc[df_features['x7'] == strat_item, 'strat'] = group_4[0]\n",
    "        uniq_strats.remove(strat_item)\n",
    "        \n",
    "    return df_features['strat']"
   ]
  },
  {
   "cell_type": "markdown",
   "id": "42e45846",
   "metadata": {},
   "source": [
    "## задача № 2: Функция стратифицированного распределения клиентов по группам\n",
    "\n",
    "Допустим, мы заранее определили множество клиентов, которые будут участвовать в эксперименте. Их страты известны. Нужно написать функцию, которая будет стратифицировано распределять их по группам.\n",
    "\n",
    "Распределение по группам будем считать стратифицированным, если для каждой страты количество клиентов этой страты в группах отличаются не более, чем на 1.\n",
    "\n",
    "Реализуйте функцию split_stratified"
   ]
  },
  {
   "cell_type": "code",
   "execution_count": 4,
   "id": "af50dc8b",
   "metadata": {},
   "outputs": [],
   "source": [
    "import numpy as np\n",
    "import pandas as pd\n",
    "\n",
    "def split_stratified(strats):\n",
    "    \"\"\"Распределяет объекты по группам (контрольная и экспериментальная).\n",
    "\n",
    "    :param strats (np.array): массив с разбиением на страты.\n",
    "    :return groups (np.array): массив из 0 и 1,\n",
    "        0 - контрольная группа, 1 - экспериментальная.\n",
    "    \"\"\"\n",
    "    \n",
    "    strats_dict = {}\n",
    "    groups = np.zeros(len(strats))\n",
    "    \n",
    "    for item in np.unique(strats).tolist():\n",
    "        strats_dict[item] = int(np.count_nonzero(strats == item) / 2)\n",
    "        \n",
    "    for i in range(len(strats)):\n",
    "        element = strats[i]\n",
    "        if strats_dict[element] > 0:\n",
    "            groups[i] = 1\n",
    "            strats_dict[element] -= 1\n",
    "            \n",
    "    return groups.astype(int)\n",
    "    "
   ]
  },
  {
   "cell_type": "code",
   "execution_count": 5,
   "id": "7b83cd3a",
   "metadata": {},
   "outputs": [],
   "source": [
    "df = pd.DataFrame({'strat': [1, 2, 2, 2, 1, 1, 1, 3, 3]})\n",
    "df['group'] = split_stratified(df['strat'].values)\n",
    "# df = pd.DataFrame({\n",
    "#   'strat': [1, 2, 2, 2, 1, 1, 1, 3, 3],\n",
    "#   'group': [1, 0, 0, 1, 0, 0, 1, 0, 1]\n",
    "# })"
   ]
  },
  {
   "cell_type": "code",
   "execution_count": 6,
   "id": "cf581b48",
   "metadata": {},
   "outputs": [
    {
     "name": "stdout",
     "output_type": "stream",
     "text": [
      "   strat  group\n",
      "0      1      1\n",
      "1      2      1\n",
      "2      2      0\n",
      "3      2      0\n",
      "4      1      1\n",
      "5      1      0\n",
      "6      1      0\n",
      "7      3      1\n",
      "8      3      0\n"
     ]
    }
   ],
   "source": [
    "print(df)"
   ]
  },
  {
   "cell_type": "markdown",
   "id": "d63856ca",
   "metadata": {},
   "source": [
    "## Задача 3: Функция для оценки эксперимента с применением постстратификации\n",
    "\n",
    "Реализуйте функцию get_ttest_strat_pvalue\n"
   ]
  },
  {
   "cell_type": "code",
   "execution_count": 15,
   "id": "bff2b383",
   "metadata": {},
   "outputs": [],
   "source": [
    "import numpy as np\n",
    "import pandas as pd\n",
    "from scipy import stats\n",
    "\n",
    "\n",
    "# Вычисляет стратифицированное среднее\n",
    "def calculate_stratified_mean(df, weights):\n",
    "    # вычисляю среднее для каждой страты\n",
    "    strat_mean = df.groupby('strat')['metric'].mean()\n",
    "    \n",
    "    # веса х страты\n",
    "    df_means_weights = pd.merge(\n",
    "        strat_mean,\n",
    "        pd.Series(weights, name='weight'),\n",
    "        how='inner',\n",
    "        left_index=True,\n",
    "        right_index=True\n",
    "    )\n",
    "    \n",
    "    # пересчет весов по данным внутри выборки - расхождение с условием\n",
    "    # если в данных df не было каких-то страт, то часть weights затрётся и сумма весов будет меньше 1\n",
    "    df_means_weights['weight'] = df_means_weights['weight'] / df_means_weights['weight'].sum()\n",
    "    \n",
    "    # стратифицированное среднее = среднее страты * вес страты (в данном случае внутри выборки)\n",
    "    mean_strat = (df_means_weights['weight'] * df_means_weights['metric']).sum()\n",
    "    \n",
    "    return mean_strat\n",
    "\n",
    "\n",
    "# Вычисляет стратифицированную дисперсию\n",
    "def calculate_strat_var(df, weights):\n",
    "    \n",
    "    # вычисляю дисперсию по стратам\n",
    "    strat_vars = df.groupby('strat')['metric'].var()\n",
    "    \n",
    "    # дисперсия по стратам х веса\n",
    "    df_vars_weights = pd.merge(\n",
    "        strat_vars,\n",
    "        pd.Series(weights, name='weight'),\n",
    "        how='inner',\n",
    "        left_index=True,\n",
    "        right_index=True\n",
    "    )\n",
    "    \n",
    "    # пересчет весов по данным внутри выборки - расхождение с условием\n",
    "    # если в данных df не было каких-то страт, то часть weights затрётся и сумма весов будет меньше 1\n",
    "    df_vars_weights['weight'] = df_vars_weights['weight'] / df_vars_weights['weight'].sum()\n",
    "    \n",
    "    # стратифицированная дисперсия = дисперсия страты * вес страты (в данном случае внутри выборки)\n",
    "    var_strat = (df_vars_weights['weight'] * df_vars_weights['metric']).sum()\n",
    "    return var_strat\n",
    "\n",
    "\n",
    "def check_stratified_test(df_control, df_pilot, weights):\n",
    "\n",
    "    # считаю стратифицированное среднее по выборкам\n",
    "    mean_strat_control = calculate_stratified_mean(df_control, weights)\n",
    "    mean_strat_pilot = calculate_stratified_mean(df_pilot, weights)\n",
    "    \n",
    "    # считаю стратифицированную дисперсию\n",
    "    var_strat_control = calculate_strat_var(df_control, weights)\n",
    "    var_strat_pilot = calculate_strat_var(df_pilot, weights)\n",
    "    \n",
    "    # числитель ттеста\n",
    "    delta_mean_strat = mean_strat_pilot - mean_strat_control\n",
    "    \n",
    "    # знаменатель ттеста\n",
    "    std_mean_strat = (var_strat_pilot / len(df_pilot) + var_strat_control / len(df_control)) ** 0.5\n",
    "    \n",
    "    # ттест\n",
    "    t = delta_mean_strat / std_mean_strat\n",
    "    \n",
    "    # np.abs(t) возвращает модуль ттеста\n",
    "    # stats.norm.cdf считает площадь под нормированным графиком распределения t-значения\n",
    "    pvalue = (1 - stats.norm.cdf(np.abs(t))) * 2\n",
    "    \n",
    "    return pvalue\n",
    "\n",
    "\n",
    "def get_ttest_strat_pvalue(metrics_strat_a_group, metrics_strat_b_group):\n",
    "    \"\"\"\n",
    "    Применяет постстратификацию, возвращает pvalue.\n",
    "\n",
    "    Веса страт считаем по данным обеих групп.\n",
    "    Предполагаем, что эксперимент проводится на всей популяции.\n",
    "    Веса страт нужно считать по данным всей популяции.\n",
    "\n",
    "    :param metrics_strat_a_group (np.ndarray): значения метрик и страт группы A.\n",
    "        shape = (n, 2), первый столбец - метрики, второй столбец - страты.\n",
    "    :param metrics_strat_b_group (np.ndarray): значения метрик и страт группы B.\n",
    "        shape = (n, 2), первый столбец - метрики, второй столбец - страты.\n",
    "        \n",
    "    :return (float): значение p-value\n",
    "    \"\"\"\n",
    "\n",
    "    # считаем веса каждой страты - типа они одинаковые для каждой группы и посчитаны по всей популяции\n",
    "    one_strat = np.count_nonzero(metrics_strat_a_group[:, 1] == 1) + np.count_nonzero(metrics_strat_b_group[:, 1] == 1)   \n",
    "    zero_strat = len(metrics_strat_a_group) + len(metrics_strat_b_group) - one_strat\n",
    "    all_strats = one_strat + zero_strat\n",
    "    strats_dict = {\n",
    "        1: one_strat / all_strats,\n",
    "        0: zero_strat / all_strats\n",
    "    }  \n",
    "\n",
    "    df_control = pd.DataFrame(metrics_strat_a_group, columns = ['metric', 'strat'])\n",
    "    df_pilot   = pd.DataFrame(metrics_strat_b_group, columns = ['metric', 'strat'])\n",
    "    pvalue = check_stratified_test(df_control, df_pilot, strats_dict)\n",
    "    \n",
    "    return pvalue\n"
   ]
  },
  {
   "cell_type": "code",
   "execution_count": 16,
   "id": "7d31e63d",
   "metadata": {},
   "outputs": [
    {
     "name": "stdout",
     "output_type": "stream",
     "text": [
      "0.037056218564119\n"
     ]
    }
   ],
   "source": [
    "metrics_strat_a_group = np.array([\n",
    "  [0, 1, 2, 3, 4, 5, 6, 7, 8, 9],\n",
    "  [0, 0, 0, 0, 1, 1, 1, 1, 1, 1]\n",
    "]).T\n",
    "\n",
    "metrics_strat_b_group = np.array([\n",
    "  [1, 2, 3, 4, 5, 6, 7, 8, 9, 10],\n",
    "  [0, 0, 0, 0, 0, 1, 1, 1, 1, 1]\n",
    "]).T\n",
    "\n",
    "print(get_ttest_strat_pvalue(metrics_strat_a_group, metrics_strat_b_group))\n",
    "# pvalue = 0.037056"
   ]
  },
  {
   "cell_type": "code",
   "execution_count": null,
   "id": "a99f15ae",
   "metadata": {},
   "outputs": [],
   "source": []
  }
 ],
 "metadata": {
  "kernelspec": {
   "display_name": "Python 3 (ipykernel)",
   "language": "python",
   "name": "python3"
  },
  "language_info": {
   "codemirror_mode": {
    "name": "ipython",
    "version": 3
   },
   "file_extension": ".py",
   "mimetype": "text/x-python",
   "name": "python",
   "nbconvert_exporter": "python",
   "pygments_lexer": "ipython3",
   "version": "3.9.6"
  }
 },
 "nbformat": 4,
 "nbformat_minor": 5
}
